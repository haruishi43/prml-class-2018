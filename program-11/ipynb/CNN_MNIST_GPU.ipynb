{
  "nbformat": 4,
  "nbformat_minor": 0,
  "metadata": {
    "colab": {
      "name": "CNN-MNIST-GPU.ipynb",
      "version": "0.3.2",
      "provenance": [],
      "collapsed_sections": []
    },
    "kernelspec": {
      "name": "python3",
      "display_name": "Python 3"
    },
    "accelerator": "GPU"
  },
  "cells": [
    {
      "metadata": {
        "id": "PSopN9j694N5",
        "colab_type": "code",
        "colab": {}
      },
      "cell_type": "code",
      "source": [
        "# -*- coding: utf-8 -*-\n",
        "#\n",
        "# CNNによるクラス分類（MNIST）\n",
        "#"
      ],
      "execution_count": 0,
      "outputs": []
    },
    {
      "metadata": {
        "id": "4uHY12GU9-sq",
        "colab_type": "code",
        "outputId": "9a254aeb-e7e5-4f26-acb9-c3ec5846f58e",
        "colab": {
          "base_uri": "https://localhost:8080/",
          "height": 306
        }
      },
      "cell_type": "code",
      "source": [
        "# chainer のインストール\n",
        "!curl https://colab.chainer.org/install | sh -\n",
        "\n",
        "# 必要なライブラリイのインストール\n",
        "!pip install h5py\n",
        "!pip install pillow"
      ],
      "execution_count": 0,
      "outputs": [
        {
          "output_type": "stream",
          "text": [
            "  % Total    % Received % Xferd  Average Speed   Time    Time     Time  Current\n",
            "                                 Dload  Upload   Total   Spent    Left  Speed\n",
            "\r  0     0    0     0    0     0      0      0 --:--:-- --:--:-- --:--:--     0\r100  1379  100  1379    0     0   8307      0 --:--:-- --:--:-- --:--:--  8307\n",
            "+ apt -y -q install cuda-libraries-dev-9-2\n",
            "Reading package lists...\n",
            "Building dependency tree...\n",
            "Reading state information...\n",
            "cuda-libraries-dev-9-2 is already the newest version (9.2.148-1).\n",
            "0 upgraded, 0 newly installed, 0 to remove and 8 not upgraded.\n",
            "+ pip install -q cupy-cuda92  chainer \n",
            "+ set +ex\n",
            "Installation succeeded!\n",
            "Requirement already satisfied: h5py in /usr/local/lib/python3.6/dist-packages (2.8.0)\n",
            "Requirement already satisfied: six in /usr/local/lib/python3.6/dist-packages (from h5py) (1.11.0)\n",
            "Requirement already satisfied: numpy>=1.7 in /usr/local/lib/python3.6/dist-packages (from h5py) (1.14.6)\n",
            "Requirement already satisfied: pillow in /usr/local/lib/python3.6/dist-packages (4.0.0)\n",
            "Requirement already satisfied: olefile in /usr/local/lib/python3.6/dist-packages (from pillow) (0.46)\n"
          ],
          "name": "stdout"
        }
      ]
    },
    {
      "metadata": {
        "id": "AMINveTh_eQu",
        "colab_type": "code",
        "outputId": "88cdf113-cb8b-40a4-f6a9-780a8588bab6",
        "colab": {
          "base_uri": "https://localhost:8080/",
          "height": 34
        }
      },
      "cell_type": "code",
      "source": [
        "# drive のマウント(認証が必要)\n",
        "from google.colab import drive\n",
        "drive.mount('/content/gdrive')"
      ],
      "execution_count": 0,
      "outputs": [
        {
          "output_type": "stream",
          "text": [
            "Drive already mounted at /content/gdrive; to attempt to forcibly remount, call drive.mount(\"/content/gdrive\", force_remount=True).\n"
          ],
          "name": "stdout"
        }
      ]
    },
    {
      "metadata": {
        "id": "SdES2aCP6r0O",
        "colab_type": "code",
        "outputId": "f32e2cdf-bb01-4fd8-d1e0-b48603185823",
        "colab": {
          "base_uri": "https://localhost:8080/",
          "height": 34
        }
      },
      "cell_type": "code",
      "source": [
        "# データの展開\n",
        "!unzip -q  '/content/gdrive/My Drive/data/mnist.zip'\n",
        "!ls"
      ],
      "execution_count": 0,
      "outputs": [
        {
          "output_type": "stream",
          "text": [
            "gdrive\tmnist  sample_data\n"
          ],
          "name": "stdout"
        }
      ]
    },
    {
      "metadata": {
        "id": "bLg61eeu-DIi",
        "colab_type": "code",
        "colab": {}
      },
      "cell_type": "code",
      "source": [
        "import sys\n",
        "import numpy as np\n",
        "import chainer\n",
        "from chainer import cuda\n",
        "from chainer import Function\n",
        "from chainer import report\n",
        "from chainer import training\n",
        "from chainer import utils\n",
        "from chainer import Variable\n",
        "from chainer import datasets, iterators, optimizers, serializers\n",
        "from chainer import Link, Chain, ChainList, cuda\n",
        "import chainer.functions as F\n",
        "import chainer.links as L\n",
        "from chainer.training import extensions\n",
        "from PIL import Image"
      ],
      "execution_count": 0,
      "outputs": []
    },
    {
      "metadata": {
        "id": "XTauCdal-S9I",
        "colab_type": "code",
        "outputId": "1dcfb0b8-e4a7-4a58-8cfd-2b0c4b443d31",
        "colab": {
          "base_uri": "https://localhost:8080/",
          "height": 272
        }
      },
      "cell_type": "code",
      "source": [
        "# chainerのバージョン\n",
        "print('GPU availability:', chainer.cuda.available)\n",
        "print('cuDNN availablility:', chainer.cuda.cudnn_enabled)\n",
        "chainer.print_runtime_info()"
      ],
      "execution_count": 0,
      "outputs": [
        {
          "output_type": "stream",
          "text": [
            "GPU availability: True\n",
            "cuDNN availablility: True\n",
            "Platform: Linux-4.14.65+-x86_64-with-Ubuntu-18.04-bionic\n",
            "Chainer: 5.0.0\n",
            "NumPy: 1.14.6\n",
            "CuPy:\n",
            "  CuPy Version          : 5.0.0\n",
            "  CUDA Root             : /usr/local/cuda\n",
            "  CUDA Build Version    : 9020\n",
            "  CUDA Driver Version   : 9020\n",
            "  CUDA Runtime Version  : 9020\n",
            "  cuDNN Build Version   : 7201\n",
            "  cuDNN Version         : 7201\n",
            "  NCCL Build Version    : 2213\n",
            "iDeep: 2.0.0.post3\n"
          ],
          "name": "stdout"
        }
      ]
    },
    {
      "metadata": {
        "id": "EgO5DzB49eEC",
        "colab_type": "code",
        "outputId": "bc3e6d5a-ebd3-4d6e-872b-11a971c943c2",
        "colab": {
          "base_uri": "https://localhost:8080/",
          "height": 1108
        }
      },
      "cell_type": "code",
      "source": [
        "# CPU，GPUの表示\n",
        "!cat /proc/cpuinfo\n",
        "!cat /proc/driver/nvidia/gpus/0000:00:04.0/information"
      ],
      "execution_count": 0,
      "outputs": [
        {
          "output_type": "stream",
          "text": [
            "processor\t: 0\n",
            "vendor_id\t: GenuineIntel\n",
            "cpu family\t: 6\n",
            "model\t\t: 63\n",
            "model name\t: Intel(R) Xeon(R) CPU @ 2.30GHz\n",
            "stepping\t: 0\n",
            "microcode\t: 0x1\n",
            "cpu MHz\t\t: 2300.000\n",
            "cache size\t: 46080 KB\n",
            "physical id\t: 0\n",
            "siblings\t: 2\n",
            "core id\t\t: 0\n",
            "cpu cores\t: 1\n",
            "apicid\t\t: 0\n",
            "initial apicid\t: 0\n",
            "fpu\t\t: yes\n",
            "fpu_exception\t: yes\n",
            "cpuid level\t: 13\n",
            "wp\t\t: yes\n",
            "flags\t\t: fpu vme de pse tsc msr pae mce cx8 apic sep mtrr pge mca cmov pat pse36 clflush mmx fxsr sse sse2 ss ht syscall nx pdpe1gb rdtscp lm constant_tsc rep_good nopl xtopology nonstop_tsc cpuid pni pclmulqdq ssse3 fma cx16 sse4_1 sse4_2 x2apic movbe popcnt aes xsave avx f16c rdrand hypervisor lahf_lm abm pti ssbd ibrs ibpb stibp fsgsbase tsc_adjust bmi1 avx2 smep bmi2 erms xsaveopt arat arch_capabilities\n",
            "bugs\t\t: cpu_meltdown spectre_v1 spectre_v2 spec_store_bypass l1tf\n",
            "bogomips\t: 4600.00\n",
            "clflush size\t: 64\n",
            "cache_alignment\t: 64\n",
            "address sizes\t: 46 bits physical, 48 bits virtual\n",
            "power management:\n",
            "\n",
            "processor\t: 1\n",
            "vendor_id\t: GenuineIntel\n",
            "cpu family\t: 6\n",
            "model\t\t: 63\n",
            "model name\t: Intel(R) Xeon(R) CPU @ 2.30GHz\n",
            "stepping\t: 0\n",
            "microcode\t: 0x1\n",
            "cpu MHz\t\t: 2300.000\n",
            "cache size\t: 46080 KB\n",
            "physical id\t: 0\n",
            "siblings\t: 2\n",
            "core id\t\t: 0\n",
            "cpu cores\t: 1\n",
            "apicid\t\t: 1\n",
            "initial apicid\t: 1\n",
            "fpu\t\t: yes\n",
            "fpu_exception\t: yes\n",
            "cpuid level\t: 13\n",
            "wp\t\t: yes\n",
            "flags\t\t: fpu vme de pse tsc msr pae mce cx8 apic sep mtrr pge mca cmov pat pse36 clflush mmx fxsr sse sse2 ss ht syscall nx pdpe1gb rdtscp lm constant_tsc rep_good nopl xtopology nonstop_tsc cpuid pni pclmulqdq ssse3 fma cx16 sse4_1 sse4_2 x2apic movbe popcnt aes xsave avx f16c rdrand hypervisor lahf_lm abm pti ssbd ibrs ibpb stibp fsgsbase tsc_adjust bmi1 avx2 smep bmi2 erms xsaveopt arat arch_capabilities\n",
            "bugs\t\t: cpu_meltdown spectre_v1 spectre_v2 spec_store_bypass l1tf\n",
            "bogomips\t: 4600.00\n",
            "clflush size\t: 64\n",
            "cache_alignment\t: 64\n",
            "address sizes\t: 46 bits physical, 48 bits virtual\n",
            "power management:\n",
            "\n",
            "Model: \t\t Tesla K80\n",
            "IRQ:   \t\t 33\n",
            "GPU UUID: \t GPU-38f7706d-d7c2-47a2-0d39-833ba9b50902\n",
            "Video BIOS: \t 80.21.25.00.02\n",
            "Bus Type: \t PCI\n",
            "DMA Size: \t 40 bits\n",
            "DMA Mask: \t 0xffffffffff\n",
            "Bus Location: \t 0000:00:04.0\n",
            "Device Minor: \t 0\n"
          ],
          "name": "stdout"
        }
      ]
    },
    {
      "metadata": {
        "id": "uDzFnIYr4LAp",
        "colab_type": "code",
        "colab": {}
      },
      "cell_type": "code",
      "source": [
        "# クラス数\n",
        "class_num = 10\n",
        "\n",
        "# 画像の大きさ\n",
        "XSIZE = 28\n",
        "YSIZE = 28\n",
        "\n",
        "# 学習データ数\n",
        "train_num = 100\n",
        "\n",
        "# データ（GPUの場合，単精度の方が早い場合が多いです）\n",
        "data_vec = np.zeros((class_num,train_num,YSIZE,XSIZE), dtype=np.float32)\n",
        "\n",
        "# 学習のパラメータ\n",
        "batchsize=10\n",
        "n_epoch=10\n",
        "n_train=class_num*train_num"
      ],
      "execution_count": 0,
      "outputs": []
    },
    {
      "metadata": {
        "id": "12j8tMSm4PPk",
        "colab_type": "code",
        "colab": {}
      },
      "cell_type": "code",
      "source": [
        "# データの読み込み\n",
        "def Read_data( flag ):\n",
        "\n",
        "    dir = [ \"train\" , \"test\" ]\n",
        "    for i in range(class_num):\n",
        "        print( i )\n",
        "        for j in range(1,train_num+1):\n",
        "            # グレースケール画像で読み込み→大きさの変更→numpyに変換\n",
        "            train_file = \"mnist/\" + dir[ flag ] + \"/\" + str(i) + \"/\" + str(i) + \"_\" + str(j) + \".jpg\"\n",
        "            work_img = Image.open(train_file).convert('L')\n",
        "            data_vec[i][j-1]  = np.asarray(work_img).astype(np.float32)\n",
        "            \n",
        "            # データの正規化\n",
        "            data_vec[i][j-1] = data_vec[i][j-1] / 255.0\n",
        "    print( \"----\" )"
      ],
      "execution_count": 0,
      "outputs": []
    },
    {
      "metadata": {
        "id": "Q2jG-mTG4j-V",
        "colab_type": "code",
        "colab": {}
      },
      "cell_type": "code",
      "source": [
        "# CNN\n",
        "class CNN(chainer.Chain):\n",
        "    # 畳み込みネットワークの設定\n",
        "    def __init__(self):\n",
        "        super(CNN, self).__init__(\n",
        "            # 畳み込み層の設定\n",
        "            conv1 = L.Convolution2D(1, 64, 3, stride=1, pad=1),\n",
        "            conv2 = L.Convolution2D(64, 64, 3, stride=1, pad=1),\n",
        "            conv3 = L.Convolution2D(64, 64, 3, stride=1, pad=1),\n",
        "            conv4 = L.Convolution2D(64, 64, 3, stride=1, pad=1),\n",
        "            conv5 = L.Convolution2D(64, 64, 3, stride=1, pad=1),\n",
        "            conv6 = L.Convolution2D(64, 64, 3, stride=1, pad=1),\n",
        "\n",
        "            # 全結合層の設定\n",
        "            full1 = L.Linear(64*7*7,100),\n",
        "            full2 = L.Linear(100, 10)\n",
        "        )\n",
        "\n",
        "    # 損失関数\n",
        "    def __call__(self, x, y):\n",
        "        # ソフトマックスクロスエントロピー誤差\n",
        "        return F.softmax_cross_entropy(self.fwd(x), y)\n",
        "\n",
        "    # 畳み込みネットワーク\n",
        "    def fwd(self, x):\n",
        "        # 畳み込み→畳み込み→プーリング\n",
        "        h = F.relu(self.conv1(x))\n",
        "        h = F.relu(self.conv2(h))\n",
        "        h = F.max_pooling_2d(h, ksize=2,stride=2,pad=0)\n",
        "\n",
        "        # 畳み込み→畳み込み→プーリング\n",
        "        h = F.relu(self.conv3(h))\n",
        "        h = F.relu(self.conv4(h))\n",
        "        h = F.max_pooling_2d(h, ksize=2,stride=2,pad=0)\n",
        "\n",
        "        # 畳み込み→畳み込み\n",
        "        h = F.relu(self.conv5(h))\n",
        "        h = F.relu(self.conv6(h))\n",
        "\n",
        "        # 全結合層\n",
        "        h = F.relu(self.full1(h))\n",
        "        out = self.full2(h)\n",
        "        return out"
      ],
      "execution_count": 0,
      "outputs": []
    },
    {
      "metadata": {
        "id": "eiw6coKN4lSd",
        "colab_type": "code",
        "colab": {}
      },
      "cell_type": "code",
      "source": [
        "# 学習\n",
        "def Train():\n",
        "    # Adamによる更新\n",
        "    optimizer = optimizers.Adam(alpha=0.0002, beta1=0.5)\n",
        "    optimizer.setup(model)\n",
        "    # 正則化\n",
        "    optimizer.add_hook(chainer.optimizer.WeightDecay(0.00001))\n",
        "    \n",
        "    for epoch in range(n_epoch):\n",
        "        error = 0.0\n",
        "        for i in range(0, n_train, batchsize):\n",
        "            x = np.zeros((batchsize, 1, YSIZE, XSIZE), dtype=np.float32)\n",
        "            y = np.zeros(batchsize, dtype=np.int32)\n",
        "\n",
        "            # バッチの作成\n",
        "            for j in range(batchsize):\n",
        "                rnd_c = np.random.randint(class_num)\n",
        "                rnd = np.random.randint(train_num)\n",
        "                x[j,0,:,:] = data_vec[rnd_c][rnd]\n",
        "                y[j] = rnd_c \n",
        "\n",
        "            # 入力データ\n",
        "            xt = Variable(cuda.to_gpu(x))\n",
        "            yt = Variable(cuda.to_gpu(y))\n",
        "\n",
        "            # 勾配の初期化→伝播，誤差の計算→逆伝播→パラメータの更新\n",
        "            model.zerograds()\n",
        "            loss = model( xt , yt )\n",
        "            error += loss.data\n",
        "            loss.backward()\n",
        "            optimizer.update()\n",
        "\n",
        "            if i != 0 and i % 100 == 0:\n",
        "               print( ' (' + str( epoch ) + ',' + str( i ) + ') : ' + str( error ) )\n",
        "               error = 0.0\n",
        "\n",
        "    # パラメータの保存\n",
        "    serializers.save_hdf5(\"/content/gdrive/My Drive/data/model-CNN-gpu.h5\", model)"
      ],
      "execution_count": 0,
      "outputs": []
    },
    {
      "metadata": {
        "id": "Ne84M5p846yf",
        "colab_type": "code",
        "colab": {}
      },
      "cell_type": "code",
      "source": [
        "# 予測\n",
        "def Predict():\n",
        "\n",
        "    # パラメータのロード\n",
        "    serializers.load_hdf5(\"/content/gdrive/My Drive/data/model-CNN-gpu.h5\", model)\n",
        "    x = np.zeros((1, 1, YSIZE, XSIZE), dtype=np.float32)\n",
        "    y = np.zeros( 1, dtype=np.int32)\n",
        "\n",
        "    # 混合行列\n",
        "    result = np.zeros((class_num,class_num), dtype=np.int32)\n",
        "    \n",
        "    for i in range(class_num):\n",
        "        for j in range(train_num):\n",
        "            # 入力データ\n",
        "            x[0,0,:,:] = data_vec[i][j]\n",
        "            y[0] = i\n",
        "            \n",
        "            xt = Variable(cuda.to_gpu(x))\n",
        "            yt = Variable(cuda.to_gpu(y))\n",
        "            \n",
        "            # 予測\n",
        "            predict = model.fwd( xt )\n",
        "            ans = np.argmax( predict.data[0] )\n",
        "\n",
        "            # 混合行列\n",
        "            result[i][int(ans)] += 1\n",
        "\n",
        "    print( \"\\n [混合行列]\" )\n",
        "    print( result )\n",
        "    print( \"\\n 正解数 ->\" ,  np.trace(result) )"
      ],
      "execution_count": 0,
      "outputs": []
    },
    {
      "metadata": {
        "id": "RBnvgG6V5FKJ",
        "colab_type": "code",
        "outputId": "8dd02070-c343-4efb-c5f9-4ea4ed9cdbad",
        "colab": {
          "base_uri": "https://localhost:8080/",
          "height": 34
        }
      },
      "cell_type": "code",
      "source": [
        "# モデルの設定（GPU）\n",
        "gpu_device = 0\n",
        "cuda.get_device(gpu_device).use()\n",
        "model = CNN()\n",
        "model.to_gpu()\n"
      ],
      "execution_count": 0,
      "outputs": [
        {
          "output_type": "execute_result",
          "data": {
            "text/plain": [
              "<__main__.CNN at 0x7f9b48c3e320>"
            ]
          },
          "metadata": {
            "tags": []
          },
          "execution_count": 13
        }
      ]
    },
    {
      "metadata": {
        "id": "_-4xaSaaIBXk",
        "colab_type": "code",
        "outputId": "02b0fe8d-b993-475a-9132-63bf8f31c7df",
        "colab": {
          "base_uri": "https://localhost:8080/",
          "height": 1734
        }
      },
      "cell_type": "code",
      "source": [
        "# データの読み込み\n",
        "flag = 0\n",
        "Read_data( flag )\n",
        "\n",
        "# 学習\n",
        "Train()"
      ],
      "execution_count": 0,
      "outputs": [
        {
          "output_type": "stream",
          "text": [
            "0\n",
            "1\n",
            "2\n",
            "3\n",
            "4\n",
            "5\n",
            "6\n",
            "7\n",
            "8\n",
            "9\n",
            "----\n",
            " (0,100) : 25.227198\n",
            " (0,200) : 22.04723\n",
            " (0,300) : 18.716139\n",
            " (0,400) : 10.432272\n",
            " (0,500) : 8.0285225\n",
            " (0,600) : 7.8106704\n",
            " (0,700) : 3.5015702\n",
            " (0,800) : 4.433708\n",
            " (0,900) : 5.2394414\n",
            " (1,100) : 3.606538\n",
            " (1,200) : 2.9365883\n",
            " (1,300) : 2.706869\n",
            " (1,400) : 3.311139\n",
            " (1,500) : 2.886369\n",
            " (1,600) : 1.4251643\n",
            " (1,700) : 1.4820572\n",
            " (1,800) : 2.6871595\n",
            " (1,900) : 3.4853873\n",
            " (2,100) : 1.2328894\n",
            " (2,200) : 0.4632244\n",
            " (2,300) : 2.0389476\n",
            " (2,400) : 2.305337\n",
            " (2,500) : 0.8456947\n",
            " (2,600) : 2.2104461\n",
            " (2,700) : 1.9521723\n",
            " (2,800) : 1.6576452\n",
            " (2,900) : 1.3926767\n",
            " (3,100) : 1.3879385\n",
            " (3,200) : 1.3633529\n",
            " (3,300) : 0.82640785\n",
            " (3,400) : 1.1129125\n",
            " (3,500) : 0.9763315\n",
            " (3,600) : 1.3389509\n",
            " (3,700) : 1.6211966\n",
            " (3,800) : 0.6289312\n",
            " (3,900) : 0.5314214\n",
            " (4,100) : 1.2321743\n",
            " (4,200) : 0.5435087\n",
            " (4,300) : 0.3815787\n",
            " (4,400) : 1.4626524\n",
            " (4,500) : 0.3988031\n",
            " (4,600) : 0.4487029\n",
            " (4,700) : 0.7943758\n",
            " (4,800) : 1.5022634\n",
            " (4,900) : 2.1678731\n",
            " (5,100) : 0.74208486\n",
            " (5,200) : 0.69541365\n",
            " (5,300) : 0.704162\n",
            " (5,400) : 1.1171597\n",
            " (5,500) : 0.5020653\n",
            " (5,600) : 0.32485\n",
            " (5,700) : 0.49425858\n",
            " (5,800) : 0.16014796\n",
            " (5,900) : 0.40619212\n",
            " (6,100) : 0.33218074\n",
            " (6,200) : 0.48831308\n",
            " (6,300) : 1.2346803\n",
            " (6,400) : 0.08247252\n",
            " (6,500) : 0.4419998\n",
            " (6,600) : 1.1440029\n",
            " (6,700) : 0.81999624\n",
            " (6,800) : 0.29467103\n",
            " (6,900) : 0.16775724\n",
            " (7,100) : 0.25412714\n",
            " (7,200) : 0.17676692\n",
            " (7,300) : 0.06577239\n",
            " (7,400) : 0.047895864\n",
            " (7,500) : 0.02748704\n",
            " (7,600) : 0.028683472\n",
            " (7,700) : 0.016745185\n",
            " (7,800) : 0.1365175\n",
            " (7,900) : 0.029886724\n",
            " (8,100) : 0.047892474\n",
            " (8,200) : 0.044671398\n",
            " (8,300) : 0.07491126\n",
            " (8,400) : 0.019642591\n",
            " (8,500) : 0.013912296\n",
            " (8,600) : 0.025405312\n",
            " (8,700) : 0.26604995\n",
            " (8,800) : 0.06781545\n",
            " (8,900) : 0.050528526\n",
            " (9,100) : 0.015499115\n",
            " (9,200) : 0.017338943\n",
            " (9,300) : 0.013413525\n",
            " (9,400) : 0.08350454\n",
            " (9,500) : 0.03171115\n",
            " (9,600) : 0.03452134\n",
            " (9,700) : 0.12748018\n",
            " (9,800) : 0.023202468\n",
            " (9,900) : 0.029130552\n"
          ],
          "name": "stdout"
        }
      ]
    },
    {
      "metadata": {
        "id": "MEDLa4r15MZb",
        "colab_type": "code",
        "outputId": "51b89537-191d-4e6f-d00e-7be203cb7b1a",
        "colab": {
          "base_uri": "https://localhost:8080/",
          "height": 442
        }
      },
      "cell_type": "code",
      "source": [
        "# データの読み込み\n",
        "flag = 1\n",
        "Read_data( flag )\n",
        "\n",
        "# 予測\n",
        "Predict()"
      ],
      "execution_count": 0,
      "outputs": [
        {
          "output_type": "stream",
          "text": [
            "0\n",
            "1\n",
            "2\n",
            "3\n",
            "4\n",
            "5\n",
            "6\n",
            "7\n",
            "8\n",
            "9\n",
            "----\n",
            "\n",
            " [混合行列]\n",
            "[[ 99   0   0   0   0   0   1   0   0   0]\n",
            " [  0 100   0   0   0   0   0   0   0   0]\n",
            " [  0   0  96   0   0   0   1   1   2   0]\n",
            " [  0   0   0  93   0   6   0   0   1   0]\n",
            " [  0   0   0   0  94   0   2   0   1   3]\n",
            " [  1   0   0   0   0  94   1   0   4   0]\n",
            " [  3   1   0   0   0   2  94   0   0   0]\n",
            " [  0   1   1   8   1   1   0  86   0   2]\n",
            " [  2   0   1   1   1   0   1   0  93   1]\n",
            " [  0   0   0   0   0   1   0   1   2  96]]\n",
            "\n",
            " 正解数 -> 945\n"
          ],
          "name": "stdout"
        }
      ]
    },
    {
      "metadata": {
        "id": "6m2m44_3c1FR",
        "colab_type": "code",
        "colab": {}
      },
      "cell_type": "code",
      "source": [
        ""
      ],
      "execution_count": 0,
      "outputs": []
    }
  ]
}