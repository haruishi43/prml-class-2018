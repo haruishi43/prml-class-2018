{
  "nbformat": 4,
  "nbformat_minor": 0,
  "metadata": {
    "colab": {
      "name": "cifar.ipynb",
      "version": "0.3.2",
      "provenance": [],
      "collapsed_sections": []
    },
    "kernelspec": {
      "name": "python3",
      "display_name": "Python 3"
    },
    "accelerator": "GPU"
  },
  "cells": [
    {
      "metadata": {
        "id": "PSopN9j694N5",
        "colab_type": "code",
        "colab": {}
      },
      "cell_type": "code",
      "source": [
        "# -*- coding: utf-8 -*-\n",
        "#\n",
        "# cifarのダウンロード\n",
        "#"
      ],
      "execution_count": 0,
      "outputs": []
    },
    {
      "metadata": {
        "id": "4uHY12GU9-sq",
        "colab_type": "code",
        "outputId": "656f9b0c-af3a-43b3-dc72-5259467d4b78",
        "colab": {
          "base_uri": "https://localhost:8080/",
          "height": 374
        }
      },
      "cell_type": "code",
      "source": [
        "# chainer のインストール\n",
        "!curl https://colab.chainer.org/install | sh -\n",
        "\n",
        "# 必要なライブラリイのインストール\n",
        "!pip install pillow\n",
        "!pip install matplotlib"
      ],
      "execution_count": 0,
      "outputs": [
        {
          "output_type": "stream",
          "text": [
            "  % Total    % Received % Xferd  Average Speed   Time    Time     Time  Current\n",
            "                                 Dload  Upload   Total   Spent    Left  Speed\n",
            "\r  0     0    0     0    0     0      0      0 --:--:-- --:--:-- --:--:--     0\r100  1379  100  1379    0     0  11686      0 --:--:-- --:--:-- --:--:-- 11686\n",
            "+ apt -y -q install cuda-libraries-dev-9-2\n",
            "Reading package lists...\n",
            "Building dependency tree...\n",
            "Reading state information...\n",
            "cuda-libraries-dev-9-2 is already the newest version (9.2.148-1).\n",
            "0 upgraded, 0 newly installed, 0 to remove and 8 not upgraded.\n",
            "+ pip install -q cupy-cuda92  chainer \n",
            "+ set +ex\n",
            "Installation succeeded!\n",
            "Requirement already satisfied: pillow in /usr/local/lib/python3.6/dist-packages (4.0.0)\n",
            "Requirement already satisfied: olefile in /usr/local/lib/python3.6/dist-packages (from pillow) (0.46)\n",
            "Requirement already satisfied: matplotlib in /usr/local/lib/python3.6/dist-packages (2.1.2)\n",
            "Requirement already satisfied: cycler>=0.10 in /usr/local/lib/python3.6/dist-packages (from matplotlib) (0.10.0)\n",
            "Requirement already satisfied: pytz in /usr/local/lib/python3.6/dist-packages (from matplotlib) (2018.7)\n",
            "Requirement already satisfied: pyparsing!=2.0.4,!=2.1.2,!=2.1.6,>=2.0.1 in /usr/local/lib/python3.6/dist-packages (from matplotlib) (2.3.0)\n",
            "Requirement already satisfied: numpy>=1.7.1 in /usr/local/lib/python3.6/dist-packages (from matplotlib) (1.14.6)\n",
            "Requirement already satisfied: python-dateutil>=2.1 in /usr/local/lib/python3.6/dist-packages (from matplotlib) (2.5.3)\n",
            "Requirement already satisfied: six>=1.10 in /usr/local/lib/python3.6/dist-packages (from matplotlib) (1.11.0)\n"
          ],
          "name": "stdout"
        }
      ]
    },
    {
      "metadata": {
        "id": "AMINveTh_eQu",
        "colab_type": "code",
        "outputId": "787d6a0e-f97f-4658-935a-22a66faf906d",
        "colab": {
          "base_uri": "https://localhost:8080/",
          "height": 34
        }
      },
      "cell_type": "code",
      "source": [
        "# Google drive のマウント（認証が必要）\n",
        "from google.colab import drive\n",
        "drive.mount('/content/gdrive')"
      ],
      "execution_count": 0,
      "outputs": [
        {
          "output_type": "stream",
          "text": [
            "Drive already mounted at /content/gdrive; to attempt to forcibly remount, call drive.mount(\"/content/gdrive\", force_remount=True).\n"
          ],
          "name": "stdout"
        }
      ]
    },
    {
      "metadata": {
        "id": "bLg61eeu-DIi",
        "colab_type": "code",
        "colab": {}
      },
      "cell_type": "code",
      "source": [
        "import sys\n",
        "import numpy as np\n",
        "import chainer\n",
        "from chainer import cuda\n",
        "from chainer import Function\n",
        "from chainer import report\n",
        "from chainer import training\n",
        "from chainer import utils\n",
        "from chainer import Variable\n",
        "from chainer import datasets, iterators, optimizers, serializers\n",
        "from chainer import Link, Chain, ChainList, cuda\n",
        "import chainer.functions as F\n",
        "import chainer.links as L\n",
        "from chainer.training import extensions\n",
        "from PIL import Image\n",
        "import matplotlib.pyplot as plt"
      ],
      "execution_count": 0,
      "outputs": []
    },
    {
      "metadata": {
        "id": "w-CnwUO2dmLD",
        "colab_type": "code",
        "outputId": "637ce5ff-4b2b-4c99-d967-f3ff21424a3d",
        "colab": {
          "base_uri": "https://localhost:8080/",
          "height": 34
        }
      },
      "cell_type": "code",
      "source": [
        "train_data, test_data = chainer.datasets.cifar.get_cifar10()"
      ],
      "execution_count": 0,
      "outputs": [
        {
          "output_type": "stream",
          "text": [
            "Downloading from https://www.cs.toronto.edu/~kriz/cifar-10-python.tar.gz...\n"
          ],
          "name": "stderr"
        }
      ]
    },
    {
      "metadata": {
        "id": "FKln0Q3AdPkb",
        "colab_type": "code",
        "outputId": "b07697ea-61cf-4ee3-c5d4-afacbabc6f2b",
        "colab": {
          "base_uri": "https://localhost:8080/",
          "height": 34
        }
      },
      "cell_type": "code",
      "source": [
        "print( len( train_data ) , len( test_data ) )"
      ],
      "execution_count": 0,
      "outputs": [
        {
          "output_type": "stream",
          "text": [
            "50000 10000\n"
          ],
          "name": "stdout"
        }
      ]
    },
    {
      "metadata": {
        "id": "XHhNR2n2d8h-",
        "colab_type": "code",
        "outputId": "ea88db06-94f9-4d67-ad0b-3479a3c08f62",
        "colab": {
          "base_uri": "https://localhost:8080/",
          "height": 711
        }
      },
      "cell_type": "code",
      "source": [
        "train_x , train_y = train_data[1]\n",
        "print( train_y )\n",
        "\n",
        "# (3,32,32) -> (32,32,3)に変換\n",
        "plt.imshow(np.transpose( train_x , (1,2,0) ),vmin=0, vmax=1)\n",
        "plt.show()\n",
        "\n",
        "test_x , test_y = test_data[3]\n",
        "print( test_y )\n",
        "\n",
        "# (3,32,32) -> (32,32,3)に変換\n",
        "plt.imshow(np.transpose( test_x , (1,2,0) ),vmin=0, vmax=1)\n",
        "plt.show()\n",
        "                "
      ],
      "execution_count": 0,
      "outputs": [
        {
          "output_type": "stream",
          "text": [
            "9\n"
          ],
          "name": "stdout"
        },
        {
          "output_type": "display_data",
          "data": {
            "image/png": "[encoded data removed]",
            "text/plain": [
              "<matplotlib.figure.Figure at 0x7fe41fb4e470>"
            ]
          },
          "metadata": {
            "tags": []
          }
        },
        {
          "output_type": "stream",
          "text": [
            "0\n"
          ],
          "name": "stdout"
        },
        {
          "output_type": "display_data",
          "data": {
            "image/png": "[encoded data removed]",
            "text/plain": [
              "<matplotlib.figure.Figure at 0x7fe41fc54160>"
            ]
          },
          "metadata": {
            "tags": []
          }
        }
      ]
    },
    {
      "metadata": {
        "id": "t8NsW8fMenpM",
        "colab_type": "code",
        "colab": {}
      },
      "cell_type": "code",
      "source": [
        ""
      ],
      "execution_count": 0,
      "outputs": []
    }
  ]
}