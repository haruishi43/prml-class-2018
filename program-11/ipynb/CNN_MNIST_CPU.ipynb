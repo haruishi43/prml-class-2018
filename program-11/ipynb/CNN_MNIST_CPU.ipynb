{
  "nbformat": 4,
  "nbformat_minor": 0,
  "metadata": {
    "colab": {
      "name": "CNN-MNIST-CPU.ipynb",
      "version": "0.3.2",
      "provenance": [],
      "collapsed_sections": []
    },
    "kernelspec": {
      "name": "python3",
      "display_name": "Python 3"
    }
  },
  "cells": [
    {
      "metadata": {
        "id": "PSopN9j694N5",
        "colab_type": "code",
        "colab": {}
      },
      "cell_type": "code",
      "source": [
        "# -*- coding: utf-8 -*-\n",
        "#\n",
        "# CNNによるクラス分類（MNIST）\n",
        "#"
      ],
      "execution_count": 0,
      "outputs": []
    },
    {
      "metadata": {
        "id": "4uHY12GU9-sq",
        "colab_type": "code",
        "outputId": "0ac3c961-6f74-43e2-c497-c07a283b58be",
        "colab": {
          "base_uri": "https://localhost:8080/",
          "height": 306
        }
      },
      "cell_type": "code",
      "source": [
        "# chainer のインストール\n",
        "!curl https://colab.chainer.org/install | sh -\n",
        "\n",
        "# 必要なライブラリイのインストール\n",
        "!pip install h5py\n",
        "!pip install pillow"
      ],
      "execution_count": 0,
      "outputs": [
        {
          "output_type": "stream",
          "text": [
            "  % Total    % Received % Xferd  Average Speed   Time    Time     Time  Current\n",
            "                                 Dload  Upload   Total   Spent    Left  Speed\n",
            "100  1379  100  1379    0     0    245      0  0:00:05  0:00:05 --:--:--   335\n",
            "+ apt -y -q install cuda-libraries-dev-9-2\n",
            "Reading package lists...\n",
            "Building dependency tree...\n",
            "Reading state information...\n",
            "cuda-libraries-dev-9-2 is already the newest version (9.2.148-1).\n",
            "0 upgraded, 0 newly installed, 0 to remove and 8 not upgraded.\n",
            "+ pip install -q cupy-cuda92  chainer \n",
            "+ set +ex\n",
            "Installation succeeded!\n",
            "Requirement already satisfied: h5py in /usr/local/lib/python3.6/dist-packages (2.8.0)\n",
            "Requirement already satisfied: numpy>=1.7 in /usr/local/lib/python3.6/dist-packages (from h5py) (1.14.6)\n",
            "Requirement already satisfied: six in /usr/local/lib/python3.6/dist-packages (from h5py) (1.11.0)\n",
            "Requirement already satisfied: pillow in /usr/local/lib/python3.6/dist-packages (4.0.0)\n",
            "Requirement already satisfied: olefile in /usr/local/lib/python3.6/dist-packages (from pillow) (0.46)\n"
          ],
          "name": "stdout"
        }
      ]
    },
    {
      "metadata": {
        "id": "AMINveTh_eQu",
        "colab_type": "code",
        "outputId": "f8fc5d98-0b0c-4235-c890-a4ac92979116",
        "colab": {
          "base_uri": "https://localhost:8080/",
          "height": 122
        }
      },
      "cell_type": "code",
      "source": [
        "# drive のマウント(認証が必要)\n",
        "from google.colab import drive\n",
        "drive.mount('/content/gdrive')"
      ],
      "execution_count": 0,
      "outputs": [
        {
          "output_type": "stream",
          "text": [
            "Go to this URL in a browser: https://accounts.google.com/o/oauth2/auth?client_id=947318989803-6bn6qk8qdgf4n4g3pfee6491hc0brc4i.apps.googleusercontent.com&redirect_uri=urn%3Aietf%3Awg%3Aoauth%3A2.0%3Aoob&scope=email%20https%3A%2F%2Fwww.googleapis.com%2Fauth%2Fdocs.test%20https%3A%2F%2Fwww.googleapis.com%2Fauth%2Fdrive%20https%3A%2F%2Fwww.googleapis.com%2Fauth%2Fdrive.photos.readonly%20https%3A%2F%2Fwww.googleapis.com%2Fauth%2Fpeopleapi.readonly&response_type=code\n",
            "\n",
            "Enter your authorization code:\n",
            "··········\n",
            "Mounted at /content/gdrive\n"
          ],
          "name": "stdout"
        }
      ]
    },
    {
      "metadata": {
        "id": "SdES2aCP6r0O",
        "colab_type": "code",
        "outputId": "67ce2929-981e-4ff8-8072-ca65bb049075",
        "colab": {
          "base_uri": "https://localhost:8080/",
          "height": 34
        }
      },
      "cell_type": "code",
      "source": [
        "# データの展開\n",
        "!unzip -q  '/content/gdrive/My Drive/data/mnist.zip'\n",
        "!ls"
      ],
      "execution_count": 0,
      "outputs": [
        {
          "output_type": "stream",
          "text": [
            "gdrive\tmnist  sample_data\n"
          ],
          "name": "stdout"
        }
      ]
    },
    {
      "metadata": {
        "id": "bLg61eeu-DIi",
        "colab_type": "code",
        "colab": {}
      },
      "cell_type": "code",
      "source": [
        "import sys\n",
        "import numpy as np\n",
        "import chainer\n",
        "from chainer import cuda\n",
        "from chainer import Function\n",
        "from chainer import report\n",
        "from chainer import training\n",
        "from chainer import utils\n",
        "from chainer import Variable\n",
        "from chainer import datasets, iterators, optimizers, serializers\n",
        "from chainer import Link, Chain, ChainList, cuda\n",
        "import chainer.functions as F\n",
        "import chainer.links as L\n",
        "from chainer.training import extensions\n",
        "from PIL import Image"
      ],
      "execution_count": 0,
      "outputs": []
    },
    {
      "metadata": {
        "id": "XTauCdal-S9I",
        "colab_type": "code",
        "outputId": "7c6a6842-f2dc-4cb2-d314-c61cc1011f6a",
        "colab": {
          "base_uri": "https://localhost:8080/",
          "height": 272
        }
      },
      "cell_type": "code",
      "source": [
        "# chainerのバージョン\n",
        "print('GPU availability:', chainer.cuda.available)\n",
        "print('cuDNN availablility:', chainer.cuda.cudnn_enabled)\n",
        "chainer.print_runtime_info()"
      ],
      "execution_count": 0,
      "outputs": [
        {
          "output_type": "stream",
          "text": [
            "GPU availability: True\n",
            "cuDNN availablility: True\n",
            "Platform: Linux-4.14.65+-x86_64-with-Ubuntu-18.04-bionic\n",
            "Chainer: 5.0.0\n",
            "NumPy: 1.14.6\n",
            "CuPy:\n",
            "  CuPy Version          : 5.1.0\n",
            "  CUDA Root             : /usr/local/cuda\n",
            "  CUDA Build Version    : 9020\n",
            "  CUDA Driver Version   : 9020\n",
            "  CUDA Runtime Version  : CUDARuntimeError('cudaErrorUnknown: unknown error',)\n",
            "  cuDNN Build Version   : 7301\n",
            "  cuDNN Version         : 7301\n",
            "  NCCL Build Version    : 2307\n",
            "iDeep: 2.0.0.post3\n"
          ],
          "name": "stdout"
        }
      ]
    },
    {
      "metadata": {
        "id": "EgO5DzB49eEC",
        "colab_type": "code",
        "outputId": "259e6514-796b-4282-8dcc-775792925273",
        "colab": {
          "base_uri": "https://localhost:8080/",
          "height": 972
        }
      },
      "cell_type": "code",
      "source": [
        "# CPU，GPUの表示\n",
        "!cat /proc/cpuinfo\n",
        "!cat /proc/driver/nvidia/gpus/0000:00:04.0/information"
      ],
      "execution_count": 0,
      "outputs": [
        {
          "output_type": "stream",
          "text": [
            "processor\t: 0\n",
            "vendor_id\t: GenuineIntel\n",
            "cpu family\t: 6\n",
            "model\t\t: 63\n",
            "model name\t: Intel(R) Xeon(R) CPU @ 2.30GHz\n",
            "stepping\t: 0\n",
            "microcode\t: 0x1\n",
            "cpu MHz\t\t: 2300.000\n",
            "cache size\t: 46080 KB\n",
            "physical id\t: 0\n",
            "siblings\t: 2\n",
            "core id\t\t: 0\n",
            "cpu cores\t: 1\n",
            "apicid\t\t: 0\n",
            "initial apicid\t: 0\n",
            "fpu\t\t: yes\n",
            "fpu_exception\t: yes\n",
            "cpuid level\t: 13\n",
            "wp\t\t: yes\n",
            "flags\t\t: fpu vme de pse tsc msr pae mce cx8 apic sep mtrr pge mca cmov pat pse36 clflush mmx fxsr sse sse2 ss ht syscall nx pdpe1gb rdtscp lm constant_tsc rep_good nopl xtopology nonstop_tsc cpuid pni pclmulqdq ssse3 fma cx16 sse4_1 sse4_2 x2apic movbe popcnt aes xsave avx f16c rdrand hypervisor lahf_lm abm pti ssbd ibrs ibpb stibp fsgsbase tsc_adjust bmi1 avx2 smep bmi2 erms xsaveopt arat arch_capabilities\n",
            "bugs\t\t: cpu_meltdown spectre_v1 spectre_v2 spec_store_bypass l1tf\n",
            "bogomips\t: 4600.00\n",
            "clflush size\t: 64\n",
            "cache_alignment\t: 64\n",
            "address sizes\t: 46 bits physical, 48 bits virtual\n",
            "power management:\n",
            "\n",
            "processor\t: 1\n",
            "vendor_id\t: GenuineIntel\n",
            "cpu family\t: 6\n",
            "model\t\t: 63\n",
            "model name\t: Intel(R) Xeon(R) CPU @ 2.30GHz\n",
            "stepping\t: 0\n",
            "microcode\t: 0x1\n",
            "cpu MHz\t\t: 2300.000\n",
            "cache size\t: 46080 KB\n",
            "physical id\t: 0\n",
            "siblings\t: 2\n",
            "core id\t\t: 0\n",
            "cpu cores\t: 1\n",
            "apicid\t\t: 1\n",
            "initial apicid\t: 1\n",
            "fpu\t\t: yes\n",
            "fpu_exception\t: yes\n",
            "cpuid level\t: 13\n",
            "wp\t\t: yes\n",
            "flags\t\t: fpu vme de pse tsc msr pae mce cx8 apic sep mtrr pge mca cmov pat pse36 clflush mmx fxsr sse sse2 ss ht syscall nx pdpe1gb rdtscp lm constant_tsc rep_good nopl xtopology nonstop_tsc cpuid pni pclmulqdq ssse3 fma cx16 sse4_1 sse4_2 x2apic movbe popcnt aes xsave avx f16c rdrand hypervisor lahf_lm abm pti ssbd ibrs ibpb stibp fsgsbase tsc_adjust bmi1 avx2 smep bmi2 erms xsaveopt arat arch_capabilities\n",
            "bugs\t\t: cpu_meltdown spectre_v1 spectre_v2 spec_store_bypass l1tf\n",
            "bogomips\t: 4600.00\n",
            "clflush size\t: 64\n",
            "cache_alignment\t: 64\n",
            "address sizes\t: 46 bits physical, 48 bits virtual\n",
            "power management:\n",
            "\n",
            "cat: '/proc/driver/nvidia/gpus/0000:00:04.0/information': No such file or directory\n"
          ],
          "name": "stdout"
        }
      ]
    },
    {
      "metadata": {
        "id": "uDzFnIYr4LAp",
        "colab_type": "code",
        "colab": {}
      },
      "cell_type": "code",
      "source": [
        "# クラス数\n",
        "class_num = 10\n",
        "\n",
        "# 画像の大きさ\n",
        "XSIZE = 28\n",
        "YSIZE = 28\n",
        "\n",
        "# 学習データ数\n",
        "train_num = 100\n",
        "\n",
        "# データ（GPUの場合，単精度の方が早い場合が多いです）\n",
        "data_vec = np.zeros((class_num,train_num,YSIZE,XSIZE), dtype=np.float32)\n",
        "\n",
        "# 学習のパラメータ\n",
        "batchsize=10\n",
        "n_epoch=10\n",
        "n_train=class_num*train_num"
      ],
      "execution_count": 0,
      "outputs": []
    },
    {
      "metadata": {
        "id": "12j8tMSm4PPk",
        "colab_type": "code",
        "colab": {}
      },
      "cell_type": "code",
      "source": [
        "# データの読み込み\n",
        "def Read_data( flag ):\n",
        "\n",
        "    dir = [ \"train\" , \"test\" ]\n",
        "    for i in range(class_num):\n",
        "        print( i )\n",
        "        for j in range(1,train_num+1):\n",
        "            # グレースケール画像で読み込み→大きさの変更→numpyに変換\n",
        "            train_file = \"mnist/\" + dir[ flag ] + \"/\" + str(i) + \"/\" + str(i) + \"_\" + str(j) + \".jpg\"\n",
        "            work_img = Image.open(train_file).convert('L')\n",
        "            data_vec[i][j-1]  = np.asarray(work_img).astype(np.float32)\n",
        "            \n",
        "            # データの正規化\n",
        "            data_vec[i][j-1] = data_vec[i][j-1] / 255.0\n",
        "    print( \"----\" )"
      ],
      "execution_count": 0,
      "outputs": []
    },
    {
      "metadata": {
        "id": "Q2jG-mTG4j-V",
        "colab_type": "code",
        "colab": {}
      },
      "cell_type": "code",
      "source": [
        "# CNN\n",
        "class CNN(chainer.Chain):\n",
        "    # 畳み込みネットワークの設定\n",
        "    def __init__(self):\n",
        "        super(CNN, self).__init__(\n",
        "            # 畳み込み層の設定\n",
        "            conv1 = L.Convolution2D(1, 64, 3, stride=1, pad=1),\n",
        "            conv2 = L.Convolution2D(64, 64, 3, stride=1, pad=1),\n",
        "            conv3 = L.Convolution2D(64, 64, 3, stride=1, pad=1),\n",
        "            conv4 = L.Convolution2D(64, 64, 3, stride=1, pad=1),\n",
        "            conv5 = L.Convolution2D(64, 64, 3, stride=1, pad=1),\n",
        "            conv6 = L.Convolution2D(64, 64, 3, stride=1, pad=1),\n",
        "\n",
        "            # 全結合層の設定\n",
        "            full1 = L.Linear(64*7*7,100),\n",
        "            full2 = L.Linear(100, 10)\n",
        "        )\n",
        "\n",
        "    # 損失関数\n",
        "    def __call__(self, x, y):\n",
        "        # ソフトマックスクロスエントロピー誤差\n",
        "        return F.softmax_cross_entropy(self.fwd(x), y)\n",
        "\n",
        "    # 畳み込みネットワーク\n",
        "    def fwd(self, x):\n",
        "        # 畳み込み→畳み込み→プーリング\n",
        "        h = F.relu(self.conv1(x))\n",
        "        h = F.relu(self.conv2(h))\n",
        "        h = F.max_pooling_2d(h, ksize=2,stride=2,pad=0)\n",
        "\n",
        "        # 畳み込み→畳み込み→プーリング\n",
        "        h = F.relu(self.conv3(h))\n",
        "        h = F.relu(self.conv4(h))\n",
        "        h = F.max_pooling_2d(h, ksize=2,stride=2,pad=0)\n",
        "\n",
        "        # 畳み込み→畳み込み\n",
        "        h = F.relu(self.conv5(h))\n",
        "        h = F.relu(self.conv6(h))\n",
        "\n",
        "        # 全結合層\n",
        "        h = F.relu(self.full1(h))\n",
        "        out = self.full2(h)\n",
        "        return out"
      ],
      "execution_count": 0,
      "outputs": []
    },
    {
      "metadata": {
        "id": "eiw6coKN4lSd",
        "colab_type": "code",
        "colab": {}
      },
      "cell_type": "code",
      "source": [
        "# 学習\n",
        "def Train():\n",
        "    # Adamによる更新\n",
        "    optimizer = optimizers.Adam(alpha=0.0002, beta1=0.5)\n",
        "    optimizer.setup(model)\n",
        "    # 正則化\n",
        "    optimizer.add_hook(chainer.optimizer.WeightDecay(0.00001))\n",
        "    \n",
        "    for epoch in range(n_epoch):\n",
        "        error = 0.0\n",
        "        for i in range(0, n_train, batchsize):\n",
        "            x = np.zeros((batchsize, 1, YSIZE, XSIZE), dtype=np.float32)\n",
        "            y = np.zeros(batchsize, dtype=np.int32)\n",
        "\n",
        "            # バッチの作成\n",
        "            for j in range(batchsize):\n",
        "                rnd_c = np.random.randint(class_num)\n",
        "                rnd = np.random.randint(train_num)\n",
        "                x[j,0,:,:] = data_vec[rnd_c][rnd]\n",
        "                y[j] = rnd_c \n",
        "\n",
        "            # 入力データ\n",
        "            xt = Variable(x)\n",
        "            yt = Variable(y)\n",
        "\n",
        "            # 勾配の初期化→伝播，誤差の計算→逆伝播→パラメータの更新\n",
        "            model.zerograds()\n",
        "            loss = model( xt , yt )\n",
        "            error += loss.data\n",
        "            loss.backward()\n",
        "            optimizer.update()\n",
        "\n",
        "            if i != 0 and i % 100 == 0:\n",
        "               print( ' (' + str( epoch ) + ',' + str( i ) + ') : ' + str( error ) )\n",
        "               error = 0.0\n",
        "\n",
        "    # パラメータの保存\n",
        "    serializers.save_hdf5(\"/content/gdrive/My Drive/data/model-CNN-gpu.h5\", model)"
      ],
      "execution_count": 0,
      "outputs": []
    },
    {
      "metadata": {
        "id": "Ne84M5p846yf",
        "colab_type": "code",
        "colab": {}
      },
      "cell_type": "code",
      "source": [
        "# 予測\n",
        "def Predict():\n",
        "\n",
        "    # パラメータのロード\n",
        "    serializers.load_hdf5(\"/content/gdrive/My Drive/data/model-CNN-gpu.h5\", model)\n",
        "    x = np.zeros((1, 1, YSIZE, XSIZE), dtype=np.float32)\n",
        "    y = np.zeros( 1, dtype=np.int32)\n",
        "\n",
        "    # 混合行列\n",
        "    result = np.zeros((class_num,class_num), dtype=np.int32)\n",
        "    \n",
        "    for i in range(class_num):\n",
        "        for j in range(train_num):\n",
        "            # 入力データ\n",
        "            x[0,0,:,:] = data_vec[i][j]\n",
        "            y[0] = i\n",
        "            \n",
        "            xt = Variable(x)\n",
        "            yt = Variable(y)\n",
        "            \n",
        "            # 予測\n",
        "            predict = model.fwd( xt )\n",
        "            ans = np.argmax( predict.data[0] )\n",
        "\n",
        "            # 混合行列\n",
        "            result[i][int(ans)] += 1\n",
        "\n",
        "    print( \"\\n [混合行列]\" )\n",
        "    print( result )\n",
        "    print( \"\\n 正解数 ->\" ,  np.trace(result) )"
      ],
      "execution_count": 0,
      "outputs": []
    },
    {
      "metadata": {
        "id": "RBnvgG6V5FKJ",
        "colab_type": "code",
        "colab": {}
      },
      "cell_type": "code",
      "source": [
        "# モデルの設定\n",
        "model = CNN()\n"
      ],
      "execution_count": 0,
      "outputs": []
    },
    {
      "metadata": {
        "id": "_-4xaSaaIBXk",
        "colab_type": "code",
        "outputId": "232f4ccb-86b2-48d0-bb99-57ad25ebaa3a",
        "colab": {
          "base_uri": "https://localhost:8080/",
          "height": 1734
        }
      },
      "cell_type": "code",
      "source": [
        "# データの読み込み\n",
        "flag = 0\n",
        "Read_data( flag )\n",
        "\n",
        "# 学習\n",
        "Train()"
      ],
      "execution_count": 0,
      "outputs": [
        {
          "output_type": "stream",
          "text": [
            "0\n",
            "1\n",
            "2\n",
            "3\n",
            "4\n",
            "5\n",
            "6\n",
            "7\n",
            "8\n",
            "9\n",
            "----\n",
            " (0,100) : 25.169313669204712\n",
            " (0,200) : 21.565176367759705\n",
            " (0,300) : 17.791462421417236\n",
            " (0,400) : 12.861149370670319\n",
            " (0,500) : 7.029890388250351\n",
            " (0,600) : 8.320815920829773\n",
            " (0,700) : 5.256755627691746\n",
            " (0,800) : 5.029728047549725\n",
            " (0,900) : 5.47710357606411\n",
            " (1,100) : 3.9812702387571335\n",
            " (1,200) : 3.822638913989067\n",
            " (1,300) : 2.4342231303453445\n",
            " (1,400) : 2.7283862605690956\n",
            " (1,500) : 2.4761004000902176\n",
            " (1,600) : 5.468730978667736\n",
            " (1,700) : 2.4050003476440907\n",
            " (1,800) : 2.859396804124117\n",
            " (1,900) : 1.615269310772419\n",
            " (2,100) : 1.8364286795258522\n",
            " (2,200) : 1.704940367024392\n",
            " (2,300) : 1.5364218102768064\n",
            " (2,400) : 1.7316970136016607\n",
            " (2,500) : 1.1756049543619156\n",
            " (2,600) : 1.2807469796389341\n",
            " (2,700) : 1.7900415603071451\n",
            " (2,800) : 1.0257524605840445\n",
            " (2,900) : 1.2478464739397168\n",
            " (3,100) : 3.3083907701075077\n",
            " (3,200) : 1.2055645231157541\n",
            " (3,300) : 0.5522363882046193\n",
            " (3,400) : 1.0857403865084052\n",
            " (3,500) : 2.0501193553209305\n",
            " (3,600) : 1.1462286282330751\n",
            " (3,700) : 0.5390449583501322\n",
            " (3,800) : 1.1402131244540215\n",
            " (3,900) : 1.9580404106527567\n",
            " (4,100) : 1.0896191326901317\n",
            " (4,200) : 1.3030062378384173\n",
            " (4,300) : 0.897177231265232\n",
            " (4,400) : 0.947881780564785\n",
            " (4,500) : 0.27503834245726466\n",
            " (4,600) : 0.31618161010555923\n",
            " (4,700) : 0.1659775291918777\n",
            " (4,800) : 1.52576093073003\n",
            " (4,900) : 1.1415344742126763\n",
            " (5,100) : 1.2813018430024385\n",
            " (5,200) : 1.2678517997264862\n",
            " (5,300) : 0.3574021472595632\n",
            " (5,400) : 0.3100760979577899\n",
            " (5,500) : 0.6252011790929828\n",
            " (5,600) : 0.3730078721418977\n",
            " (5,700) : 0.231912097427994\n",
            " (5,800) : 0.5832085085567087\n",
            " (5,900) : 0.6643815655843355\n",
            " (6,100) : 0.6679921275936067\n",
            " (6,200) : 1.204751801211387\n",
            " (6,300) : 0.21670885221101344\n",
            " (6,400) : 0.8143310234881938\n",
            " (6,500) : 0.3569227249827236\n",
            " (6,600) : 0.14805378846358508\n",
            " (6,700) : 0.17090006114449352\n",
            " (6,800) : 0.09313583484617993\n",
            " (6,900) : 1.0398748523293762\n",
            " (7,100) : 0.3230606121942401\n",
            " (7,200) : 0.09459910506848246\n",
            " (7,300) : 2.2128695510327816\n",
            " (7,400) : 0.21813135175034404\n",
            " (7,500) : 0.1893573785200715\n",
            " (7,600) : 0.525082400534302\n",
            " (7,700) : 0.3114944077533437\n",
            " (7,800) : 0.09250507751130499\n",
            " (7,900) : 0.03631539363414049\n",
            " (8,100) : 0.16021401829493698\n",
            " (8,200) : 0.0731015211349586\n",
            " (8,300) : 0.07454891463567037\n",
            " (8,400) : 0.12756204756442457\n",
            " (8,500) : 0.02371129999664845\n",
            " (8,600) : 0.13475141834351234\n",
            " (8,700) : 0.015724086930276826\n",
            " (8,800) : 0.014116096701400238\n",
            " (8,900) : 0.0782124538673088\n",
            " (9,100) : 0.050686836722888984\n",
            " (9,200) : 0.5093874924150441\n",
            " (9,300) : 0.11965213232906535\n",
            " (9,400) : 0.44679599355731625\n",
            " (9,500) : 0.11032581492327154\n",
            " (9,600) : 0.6078836114611477\n",
            " (9,700) : 0.4475066265295027\n",
            " (9,800) : 0.07939600886311382\n",
            " (9,900) : 0.029851818704628386\n"
          ],
          "name": "stdout"
        }
      ]
    },
    {
      "metadata": {
        "id": "MEDLa4r15MZb",
        "colab_type": "code",
        "outputId": "e61cad54-4d63-4567-9167-2db19ff44446",
        "colab": {
          "base_uri": "https://localhost:8080/",
          "height": 442
        }
      },
      "cell_type": "code",
      "source": [
        "# データの読み込み\n",
        "flag = 1\n",
        "Read_data( flag )\n",
        "\n",
        "# 予測\n",
        "Predict()"
      ],
      "execution_count": 0,
      "outputs": [
        {
          "output_type": "stream",
          "text": [
            "0\n",
            "1\n",
            "2\n",
            "3\n",
            "4\n",
            "5\n",
            "6\n",
            "7\n",
            "8\n",
            "9\n",
            "----\n",
            "\n",
            " [混合行列]\n",
            "[[ 97   0   1   0   0   0   2   0   0   0]\n",
            " [  0 100   0   0   0   0   0   0   0   0]\n",
            " [  0   0  95   1   0   0   1   0   3   0]\n",
            " [  0   0   0  92   0   4   0   0   3   1]\n",
            " [  0   0   0   0  82   0   4   0   3  11]\n",
            " [  0   0   0   1   0  96   1   0   1   1]\n",
            " [  1   1   0   0   0   2  95   0   1   0]\n",
            " [  0   0   2   6   0   1   0  86   1   4]\n",
            " [  1   0   1   2   1   2   1   0  89   3]\n",
            " [  0   0   0   1   0   0   0   0   2  97]]\n",
            "\n",
            " 正解数 -> 929\n"
          ],
          "name": "stdout"
        }
      ]
    }
  ]
}