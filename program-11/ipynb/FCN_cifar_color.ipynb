{
  "nbformat": 4,
  "nbformat_minor": 0,
  "metadata": {
    "colab": {
      "name": "FCN-cifar-color.ipynb",
      "version": "0.3.2",
      "provenance": [],
      "collapsed_sections": []
    },
    "kernelspec": {
      "name": "python3",
      "display_name": "Python 3"
    },
    "accelerator": "GPU"
  },
  "cells": [
    {
      "metadata": {
        "id": "PSopN9j694N5",
        "colab_type": "code",
        "colab": {}
      },
      "cell_type": "code",
      "source": [
        "# -*- coding: utf-8 -*-\n",
        "#\n",
        "# FCNによるカラー化(cifar）\n",
        "#"
      ],
      "execution_count": 0,
      "outputs": []
    },
    {
      "metadata": {
        "id": "4uHY12GU9-sq",
        "colab_type": "code",
        "outputId": "c5cbe64e-e94b-4a5f-99b6-efa7d47445c6",
        "colab": {
          "base_uri": "https://localhost:8080/",
          "height": 425
        }
      },
      "cell_type": "code",
      "source": [
        "# chainer のインストール\n",
        "!curl https://colab.chainer.org/install | sh -\n",
        "\n",
        "# 必要なライブラリイのインストール\n",
        "!pip install h5py\n",
        "!pip install pillow\n",
        "!pip install matplotlib"
      ],
      "execution_count": 0,
      "outputs": [
        {
          "output_type": "stream",
          "text": [
            "  % Total    % Received % Xferd  Average Speed   Time    Time     Time  Current\n",
            "                                 Dload  Upload   Total   Spent    Left  Speed\n",
            "\r  0     0    0     0    0     0      0      0 --:--:-- --:--:-- --:--:--     0\r100  1379  100  1379    0     0  10139      0 --:--:-- --:--:-- --:--:-- 10139\n",
            "+ apt -y -q install cuda-libraries-dev-9-2\n",
            "Reading package lists...\n",
            "Building dependency tree...\n",
            "Reading state information...\n",
            "cuda-libraries-dev-9-2 is already the newest version (9.2.148-1).\n",
            "0 upgraded, 0 newly installed, 0 to remove and 8 not upgraded.\n",
            "+ pip install -q cupy-cuda92  chainer \n",
            "+ set +ex\n",
            "Installation succeeded!\n",
            "Requirement already satisfied: h5py in /usr/local/lib/python3.6/dist-packages (2.8.0)\n",
            "Requirement already satisfied: six in /usr/local/lib/python3.6/dist-packages (from h5py) (1.11.0)\n",
            "Requirement already satisfied: numpy>=1.7 in /usr/local/lib/python3.6/dist-packages (from h5py) (1.14.6)\n",
            "Requirement already satisfied: pillow in /usr/local/lib/python3.6/dist-packages (4.0.0)\n",
            "Requirement already satisfied: olefile in /usr/local/lib/python3.6/dist-packages (from pillow) (0.46)\n",
            "Requirement already satisfied: matplotlib in /usr/local/lib/python3.6/dist-packages (2.1.2)\n",
            "Requirement already satisfied: python-dateutil>=2.1 in /usr/local/lib/python3.6/dist-packages (from matplotlib) (2.5.3)\n",
            "Requirement already satisfied: numpy>=1.7.1 in /usr/local/lib/python3.6/dist-packages (from matplotlib) (1.14.6)\n",
            "Requirement already satisfied: pytz in /usr/local/lib/python3.6/dist-packages (from matplotlib) (2018.7)\n",
            "Requirement already satisfied: cycler>=0.10 in /usr/local/lib/python3.6/dist-packages (from matplotlib) (0.10.0)\n",
            "Requirement already satisfied: six>=1.10 in /usr/local/lib/python3.6/dist-packages (from matplotlib) (1.11.0)\n",
            "Requirement already satisfied: pyparsing!=2.0.4,!=2.1.2,!=2.1.6,>=2.0.1 in /usr/local/lib/python3.6/dist-packages (from matplotlib) (2.3.0)\n"
          ],
          "name": "stdout"
        }
      ]
    },
    {
      "metadata": {
        "id": "AMINveTh_eQu",
        "colab_type": "code",
        "outputId": "63f10d14-c586-4c5d-d45b-8da278dc4d9a",
        "colab": {
          "base_uri": "https://localhost:8080/",
          "height": 34
        }
      },
      "cell_type": "code",
      "source": [
        "# Google drive のマウント（認証が必要）\n",
        "from google.colab import drive\n",
        "drive.mount('/content/gdrive')"
      ],
      "execution_count": 0,
      "outputs": [
        {
          "output_type": "stream",
          "text": [
            "Drive already mounted at /content/gdrive; to attempt to forcibly remount, call drive.mount(\"/content/gdrive\", force_remount=True).\n"
          ],
          "name": "stdout"
        }
      ]
    },
    {
      "metadata": {
        "id": "_dLQl-OMdtj3",
        "colab_type": "code",
        "outputId": "5688ab44-514e-47a8-a6c0-1c07a89f9c3a",
        "colab": {
          "base_uri": "https://localhost:8080/",
          "height": 51
        }
      },
      "cell_type": "code",
      "source": [
        "# データの展開\n",
        "!unzip -q  '/content/gdrive/My Drive/data/cifar-10.zip'\n",
        "!ls"
      ],
      "execution_count": 0,
      "outputs": [
        {
          "output_type": "stream",
          "text": [
            "replace cifar-10/test/airplane/0.png? [y]es, [n]o, [A]ll, [N]one, [r]ename: A\n",
            "cifar-10  gdrive  sample_data\n"
          ],
          "name": "stdout"
        }
      ]
    },
    {
      "metadata": {
        "id": "bLg61eeu-DIi",
        "colab_type": "code",
        "colab": {}
      },
      "cell_type": "code",
      "source": [
        "import sys\n",
        "import numpy as np\n",
        "import chainer\n",
        "from chainer import cuda\n",
        "from chainer import Function\n",
        "from chainer import report\n",
        "from chainer import training\n",
        "from chainer import utils\n",
        "from chainer import Variable\n",
        "from chainer import datasets, iterators, optimizers, serializers\n",
        "from chainer import Link, Chain, ChainList, cuda\n",
        "import chainer.functions as F\n",
        "import chainer.links as L\n",
        "from chainer.training import extensions\n",
        "from PIL import Image\n",
        "import matplotlib.pyplot as plt"
      ],
      "execution_count": 0,
      "outputs": []
    },
    {
      "metadata": {
        "id": "XTauCdal-S9I",
        "colab_type": "code",
        "outputId": "ba9ee4d6-c49b-4ae9-ad95-a1f100ee5190",
        "colab": {
          "base_uri": "https://localhost:8080/",
          "height": 272
        }
      },
      "cell_type": "code",
      "source": [
        "# chainerのバージョンの確認\n",
        "print('GPU availability:', chainer.cuda.available)\n",
        "print('cuDNN availablility:', chainer.cuda.cudnn_enabled)\n",
        "chainer.print_runtime_info()"
      ],
      "execution_count": 0,
      "outputs": [
        {
          "output_type": "stream",
          "text": [
            "GPU availability: True\n",
            "cuDNN availablility: True\n",
            "Platform: Linux-4.14.65+-x86_64-with-Ubuntu-18.04-bionic\n",
            "Chainer: 5.0.0\n",
            "NumPy: 1.14.6\n",
            "CuPy:\n",
            "  CuPy Version          : 5.0.0\n",
            "  CUDA Root             : /usr/local/cuda\n",
            "  CUDA Build Version    : 9020\n",
            "  CUDA Driver Version   : 9020\n",
            "  CUDA Runtime Version  : 9020\n",
            "  cuDNN Build Version   : 7201\n",
            "  cuDNN Version         : 7201\n",
            "  NCCL Build Version    : 2213\n",
            "iDeep: 2.0.0.post3\n"
          ],
          "name": "stdout"
        }
      ]
    },
    {
      "metadata": {
        "id": "EgO5DzB49eEC",
        "colab_type": "code",
        "colab": {}
      },
      "cell_type": "code",
      "source": [
        "# CPU，GPUの確認\n",
        "!cat /proc/cpuinfo\n",
        "!cat /proc/driver/nvidia/gpus/0000:00:04.0/information"
      ],
      "execution_count": 0,
      "outputs": []
    },
    {
      "metadata": {
        "id": "uDzFnIYr4LAp",
        "colab_type": "code",
        "colab": {}
      },
      "cell_type": "code",
      "source": [
        "# クラス数\n",
        "class_num = 10\n",
        "\n",
        "# 画像の大きさ\n",
        "XSIZE = 32\n",
        "YSIZE = 32\n",
        "\n",
        "# 学習データ数\n",
        "train_num = 200\n",
        "\n",
        "# データ\n",
        "data_vec = np.zeros((class_num,train_num,1,YSIZE,XSIZE), dtype=np.float32)\n",
        "teach_vec = np.zeros((class_num,train_num,3,YSIZE,XSIZE), dtype=np.float32)\n",
        "\n",
        "# 学習のパラメータ\n",
        "batchsize=10\n",
        "n_epoch=100\n",
        "n_train=class_num * train_num"
      ],
      "execution_count": 0,
      "outputs": []
    },
    {
      "metadata": {
        "id": "UUVxCs98OTX7",
        "colab_type": "code",
        "colab": {}
      },
      "cell_type": "code",
      "source": [
        "def normalize_img(x):\n",
        "    # -1 以上を1，0以下を0とする\n",
        "    return np.float32(0 if x<0 else (1 if x>1 else x))\n",
        "n_img=np.vectorize(normalize_img)"
      ],
      "execution_count": 0,
      "outputs": []
    },
    {
      "metadata": {
        "id": "12j8tMSm4PPk",
        "colab_type": "code",
        "colab": {}
      },
      "cell_type": "code",
      "source": [
        "# データの読み込み\n",
        "def Read_data( flag ):\n",
        "\n",
        "    dir = [ \"train\" , \"test\" ]\n",
        "    dir1 = [ \"airplane\" , \"automobile\" , \"bird\" , \"cat\" , \"deer\" , \"dog\" , \"frog\" , \"horse\" , \"ship\" , \"truck\" ]\n",
        "    for i in range(class_num):\n",
        "        print( i )\n",
        "        for j in range(0,train_num):\n",
        "            # グレースケール画像で読み込み\n",
        "            train_file = \"cifar-10/\" + dir[ flag ] + \"/\" + dir1[i] + \"/\" + str(j) + \".png\"\n",
        "            work_img = Image.open(train_file).convert('L')\n",
        "            \n",
        "            # numpyに変換\n",
        "            temp = np.asarray(work_img).astype(np.float32)\n",
        "\n",
        "            # 入力値の正規化\n",
        "            data_vec[i][j][0] = temp / 255.0\n",
        "          \n",
        "            # RGB画像で読み込み\n",
        "            work_img = Image.open(train_file).convert('RGB')\n",
        "\n",
        "            # numpyに変換\n",
        "            temp = np.asarray(work_img).astype(np.float32)\n",
        "\n",
        "            # (32,32,3)→(3,32,32)に変換\n",
        "            temp = np.transpose(temp, (2,0,1))\n",
        "            \n",
        "            # 入力値の正規化\n",
        "            teach_vec[i][j] = temp / 255.0\n",
        "    print( \" ---- \" )"
      ],
      "execution_count": 0,
      "outputs": []
    },
    {
      "metadata": {
        "id": "Q2jG-mTG4j-V",
        "colab_type": "code",
        "colab": {}
      },
      "cell_type": "code",
      "source": [
        "# CNN\n",
        "class CNN(chainer.Chain):\n",
        "    # 畳み込みネットワークの設定\n",
        "    def __init__(self):\n",
        "        super(CNN, self).__init__(\n",
        "            # 畳み込み層の設定\n",
        "            conv1 = L.Convolution2D(1, 128, 3, stride=1, pad=1),\n",
        "            conv2 = L.Convolution2D(128, 128, 3, stride=1, pad=1),\n",
        "            conv3 = L.Convolution2D(128, 128, 3, stride=1, pad=1),\n",
        "            conv4 = L.Convolution2D(128, 128, 3, stride=1, pad=1),\n",
        "            conv5 = L.Convolution2D(128, 128, 3, stride=1, pad=1),\n",
        "            conv6 = L.Convolution2D(128, 128, 3, stride=1, pad=1),\n",
        "            conv7 = L.Convolution2D(128, 3, 3, stride=1, pad=1),\n",
        "            \n",
        "            # バッチノーマライゼーション\n",
        "            bn1 = L.BatchNormalization(128),\n",
        "            bn2 = L.BatchNormalization(128),\n",
        "            bn3 = L.BatchNormalization(128),\n",
        "            bn4 = L.BatchNormalization(128),\n",
        "            bn5 = L.BatchNormalization(128),\n",
        "            bn6 = L.BatchNormalization(128),\n",
        "            bn7 = L.BatchNormalization(3),\n",
        "        )\n",
        "\n",
        "    # 損失関数\n",
        "    def __call__(self, x, y):\n",
        "        # 誤差二乗和\n",
        "        return F.mean_squared_error(self.fwd(x), y)\n",
        "\n",
        "    # 畳み込みネットワーク\n",
        "    def fwd(self, x):\n",
        "        # 畳み込み\n",
        "        # 大きさ 1\n",
        "        h = F.relu(self.bn1(self.conv1(x)))\n",
        "        h = F.max_pooling_2d(h, ksize=2,stride=2,pad=0)\n",
        "        \n",
        "        # 大きさ 1/2\n",
        "        h = F.relu(self.bn2(self.conv2(h)))\n",
        "        h = F.max_pooling_2d(h, ksize=2,stride=2,pad=0)\n",
        "        \n",
        "        # 大きさ 1/4\n",
        "        h = F.relu(self.bn3(self.conv3(h)))\n",
        "        h = F.max_pooling_2d(h, ksize=2,stride=2,pad=0)\n",
        "\n",
        "        # 大きさ 1/8\n",
        "        h = F.relu(self.bn4(self.conv4(h)))\n",
        "        \n",
        "        # 逆畳み込み\n",
        "        h = F.unpooling_2d(h ,2, cover_all=False)\n",
        "\n",
        "        # 大きさ 1/4\n",
        "        h = F.relu(self.bn5(self.conv5(h)))\n",
        "        h = F.unpooling_2d(h ,2, cover_all=False)\n",
        "        \n",
        "        # 大きさ 1/2\n",
        "        h = F.relu(self.bn6(self.conv6(h)))\n",
        "        h = F.unpooling_2d(h ,2, cover_all=False)\n",
        "        \n",
        "        # 大きさ 1\n",
        "        h = F.relu(self.conv7(h))\n",
        "        return h"
      ],
      "execution_count": 0,
      "outputs": []
    },
    {
      "metadata": {
        "id": "eiw6coKN4lSd",
        "colab_type": "code",
        "colab": {}
      },
      "cell_type": "code",
      "source": [
        "# 学習\n",
        "def Train():\n",
        "    # Adamによる更新\n",
        "    optimizer = optimizers.Adam(alpha=0.0002, beta1=0.5)\n",
        "    optimizer.setup(model)\n",
        "    # 正則化\n",
        "    optimizer.add_hook(chainer.optimizer.WeightDecay(0.00001))\n",
        "    \n",
        "    for epoch in range(n_epoch):\n",
        "        error = 0.0\n",
        "        for i in range(0, n_train, batchsize):\n",
        "            x = np.zeros((batchsize, 1, YSIZE, XSIZE), dtype=np.float32)\n",
        "            y = np.zeros((batchsize, 3, YSIZE, XSIZE), dtype=np.float32)\n",
        "\n",
        "            # バッチの作成\n",
        "            for j in range(batchsize):\n",
        "                rnd_c = np.random.randint(class_num)\n",
        "                rnd = np.random.randint(train_num)\n",
        "                x[j,0,:,:] = data_vec[rnd_c][rnd]\n",
        "                y[j,:,:,:] = teach_vec[rnd_c][rnd]\n",
        "                \n",
        "            # 入力データ\n",
        "            xt = Variable(cuda.to_gpu(x))\n",
        "            yt = Variable(cuda.to_gpu(y))\n",
        "\n",
        "            # 勾配の初期化→伝播，誤差の計算→逆伝播→パラメータの更新\n",
        "            model.zerograds()\n",
        "            loss = model( xt , yt )\n",
        "            error += loss.data\n",
        "            loss.backward()\n",
        "            optimizer.update()\n",
        "        print( str( epoch ) +  ' : ' + str( error ) )\n",
        "\n",
        "    # パラメータの保存\n",
        "    serializers.save_hdf5(\"/content/gdrive/My Drive/data/model-color-cifar.h5\", model)"
      ],
      "execution_count": 0,
      "outputs": []
    },
    {
      "metadata": {
        "id": "Ne84M5p846yf",
        "colab_type": "code",
        "colab": {}
      },
      "cell_type": "code",
      "source": [
        "# 予測\n",
        "def Predict():\n",
        "\n",
        "    # パラメータのロード\n",
        "    serializers.load_hdf5(\"/content/gdrive/My Drive/data/model-color-cifar.h5\", model)\n",
        "    x = np.zeros((1, 1, YSIZE, XSIZE), dtype=np.float32)\n",
        "    y = np.zeros((1, 3, YSIZE, XSIZE), dtype=np.float32)\n",
        "\n",
        "    for i in range(class_num):\n",
        "        for j in range(train_num):\n",
        "            #　入力データ\n",
        "            x[0,0,:,:] = data_vec[i][j]\n",
        "            y[0,:,:,:] = teach_vec[i][j]\n",
        "\n",
        "            xt = Variable(cuda.to_gpu(x))\n",
        "            yt = Variable(cuda.to_gpu(y))\n",
        "\n",
        "            # 予測\n",
        "            predict = cuda.to_cpu( ( model.fwd( xt ) ).data )\n",
        "            \n",
        "            if j < 1:\n",
        "                # 画像の描画\n",
        "                plt.figure()\n",
        "                \n",
        "                # グレースケール画像の表示\n",
        "                plt.subplot(1,3,1)\n",
        "                plt.imshow(data_vec[i][j][0],vmin=0, vmax=1,cmap=\"gray\")\n",
        "                plt.title( \"Grayscale Image\" )\n",
        "                \n",
        "                plt.subplot(1,3,2)\n",
        "                # (3,32,32) -> (32,32,3)に変換\n",
        "                work = np.transpose( teach_vec[i][j] , (1,2,0) )\n",
        "                plt.imshow(work,vmin=0, vmax=1)\n",
        "                plt.title( \"Original Image\" )\n",
        "                \n",
        "                # 復元画像の表示\n",
        "                plt.subplot(1,3,3)\n",
        "                # (1,3,32,32) -> (3,32,32)に変換\n",
        "                work = np.reshape(predict,(3,YSIZE,XSIZE))\n",
        "                # (3,32,32) -> (32,32,3)に変換\n",
        "                work = np.transpose( work , (1,2,0) )\n",
        "                work = n_img( work )\n",
        "                plt.imshow(work,vmin=0, vmax=1)\n",
        "\n",
        "                # 画像の保存\n",
        "                plt.title( \"Decode Image(\" + str(i) + \",\" + str(j) + \")\" )\n",
        "                file = \"/content/gdrive/My Drive/data/result/color-\" + str(i) + \"-\" + str(j) + \"-result.png\"\n",
        "                print( file )\n",
        "                plt.savefig(file)\n",
        "                plt.close()"
      ],
      "execution_count": 0,
      "outputs": []
    },
    {
      "metadata": {
        "id": "RBnvgG6V5FKJ",
        "colab_type": "code",
        "outputId": "bb8d3ea6-264f-45ac-d36f-0904cffd1286",
        "colab": {
          "base_uri": "https://localhost:8080/",
          "height": 34
        }
      },
      "cell_type": "code",
      "source": [
        "# GPU\n",
        "xp = cuda.cupy\n",
        "cuda.get_device(0).use()\n",
        "model = CNN()\n",
        "model.to_gpu()\n"
      ],
      "execution_count": 0,
      "outputs": [
        {
          "output_type": "execute_result",
          "data": {
            "text/plain": [
              "<__main__.CNN at 0x7f6753a10278>"
            ]
          },
          "metadata": {
            "tags": []
          },
          "execution_count": 14
        }
      ]
    },
    {
      "metadata": {
        "id": "_-4xaSaaIBXk",
        "colab_type": "code",
        "colab": {}
      },
      "cell_type": "code",
      "source": [
        "# データの読み込み\n",
        "flag = 0\n",
        "Read_data( flag )\n",
        "\n",
        "# 学習\n",
        "Train()"
      ],
      "execution_count": 0,
      "outputs": []
    },
    {
      "metadata": {
        "id": "MEDLa4r15MZb",
        "colab_type": "code",
        "outputId": "d3510044-09a3-4cdf-da01-1bdbf75b0f73",
        "colab": {
          "base_uri": "https://localhost:8080/",
          "height": 374
        }
      },
      "cell_type": "code",
      "source": [
        "flag = 1    \n",
        "\n",
        "# データの読み込み\n",
        "Read_data( flag )\n",
        "\n",
        "# 予測\n",
        "Predict()"
      ],
      "execution_count": 0,
      "outputs": [
        {
          "output_type": "stream",
          "text": [
            "0\n",
            "1\n",
            "2\n",
            "3\n",
            "4\n",
            "5\n",
            "6\n",
            "7\n",
            "8\n",
            "9\n",
            " ---- \n",
            "/content/gdrive/My Drive/data/result/decode-0-0-result.png\n",
            "/content/gdrive/My Drive/data/result/decode-1-0-result.png\n",
            "/content/gdrive/My Drive/data/result/decode-2-0-result.png\n",
            "/content/gdrive/My Drive/data/result/decode-3-0-result.png\n",
            "/content/gdrive/My Drive/data/result/decode-4-0-result.png\n",
            "/content/gdrive/My Drive/data/result/decode-5-0-result.png\n",
            "/content/gdrive/My Drive/data/result/decode-6-0-result.png\n",
            "/content/gdrive/My Drive/data/result/decode-7-0-result.png\n",
            "/content/gdrive/My Drive/data/result/decode-8-0-result.png\n",
            "/content/gdrive/My Drive/data/result/decode-9-0-result.png\n"
          ],
          "name": "stdout"
        }
      ]
    },
    {
      "metadata": {
        "id": "E6LvSWWBUNQX",
        "colab_type": "code",
        "outputId": "68a4908f-f8ff-4f2c-e72a-2c5c2d9d94fa",
        "colab": {
          "base_uri": "https://localhost:8080/",
          "height": 289
        }
      },
      "cell_type": "code",
      "source": [
        "!nvidia-smi"
      ],
      "execution_count": 0,
      "outputs": [
        {
          "output_type": "stream",
          "text": [
            "Sat Dec 29 07:58:58 2018       \n",
            "+-----------------------------------------------------------------------------+\n",
            "| NVIDIA-SMI 396.44                 Driver Version: 396.44                    |\n",
            "|-------------------------------+----------------------+----------------------+\n",
            "| GPU  Name        Persistence-M| Bus-Id        Disp.A | Volatile Uncorr. ECC |\n",
            "| Fan  Temp  Perf  Pwr:Usage/Cap|         Memory-Usage | GPU-Util  Compute M. |\n",
            "|===============================+======================+======================|\n",
            "|   0  Tesla K80           Off  | 00000000:00:04.0 Off |                    0 |\n",
            "| N/A   72C    P0    72W / 149W |    427MiB / 11441MiB |      0%      Default |\n",
            "+-------------------------------+----------------------+----------------------+\n",
            "                                                                               \n",
            "+-----------------------------------------------------------------------------+\n",
            "| Processes:                                                       GPU Memory |\n",
            "|  GPU       PID   Type   Process name                             Usage      |\n",
            "|=============================================================================|\n",
            "+-----------------------------------------------------------------------------+\n"
          ],
          "name": "stdout"
        }
      ]
    },
    {
      "metadata": {
        "id": "w-CnwUO2dmLD",
        "colab_type": "code",
        "colab": {}
      },
      "cell_type": "code",
      "source": [
        ""
      ],
      "execution_count": 0,
      "outputs": []
    }
  ]
}