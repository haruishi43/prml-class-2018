{
  "nbformat": 4,
  "nbformat_minor": 0,
  "metadata": {
    "colab": {
      "name": "FCN-cifar.ipynb",
      "version": "0.3.2",
      "provenance": [],
      "collapsed_sections": []
    },
    "kernelspec": {
      "name": "python3",
      "display_name": "Python 3"
    },
    "accelerator": "GPU"
  },
  "cells": [
    {
      "metadata": {
        "id": "PSopN9j694N5",
        "colab_type": "code",
        "colab": {}
      },
      "cell_type": "code",
      "source": [
        "# -*- coding: utf-8 -*-\n",
        "#\n",
        "# オートエンコーダー(cifar）\n",
        "#"
      ],
      "execution_count": 0,
      "outputs": []
    },
    {
      "metadata": {
        "id": "4uHY12GU9-sq",
        "colab_type": "code",
        "outputId": "b59315ef-1a17-429c-8998-13f0b1a69431",
        "colab": {
          "base_uri": "https://localhost:8080/",
          "height": 425
        }
      },
      "cell_type": "code",
      "source": [
        "# chainer のインストール\n",
        "!curl https://colab.chainer.org/install | sh -\n",
        "\n",
        "# 必要なライブラリイのインストール\n",
        "!pip install h5py\n",
        "!pip install pillow\n",
        "!pip install matplotlib"
      ],
      "execution_count": 0,
      "outputs": [
        {
          "output_type": "stream",
          "text": [
            "  % Total    % Received % Xferd  Average Speed   Time    Time     Time  Current\n",
            "                                 Dload  Upload   Total   Spent    Left  Speed\n",
            "\r  0     0    0     0    0     0      0      0 --:--:-- --:--:-- --:--:--     0\r  0     0    0     0    0     0      0      0 --:--:-- --:--:-- --:--:--     0\r100  1379  100  1379    0     0   9317      0 --:--:-- --:--:-- --:--:--  9255\n",
            "+ apt -y -q install cuda-libraries-dev-9-2\n",
            "Reading package lists...\n",
            "Building dependency tree...\n",
            "Reading state information...\n",
            "cuda-libraries-dev-9-2 is already the newest version (9.2.148-1).\n",
            "0 upgraded, 0 newly installed, 0 to remove and 8 not upgraded.\n",
            "+ pip install -q cupy-cuda92  chainer \n",
            "+ set +ex\n",
            "Installation succeeded!\n",
            "Requirement already satisfied: h5py in /usr/local/lib/python3.6/dist-packages (2.8.0)\n",
            "Requirement already satisfied: numpy>=1.7 in /usr/local/lib/python3.6/dist-packages (from h5py) (1.14.6)\n",
            "Requirement already satisfied: six in /usr/local/lib/python3.6/dist-packages (from h5py) (1.11.0)\n",
            "Requirement already satisfied: pillow in /usr/local/lib/python3.6/dist-packages (4.0.0)\n",
            "Requirement already satisfied: olefile in /usr/local/lib/python3.6/dist-packages (from pillow) (0.46)\n",
            "Requirement already satisfied: matplotlib in /usr/local/lib/python3.6/dist-packages (2.1.2)\n",
            "Requirement already satisfied: numpy>=1.7.1 in /usr/local/lib/python3.6/dist-packages (from matplotlib) (1.14.6)\n",
            "Requirement already satisfied: pytz in /usr/local/lib/python3.6/dist-packages (from matplotlib) (2018.7)\n",
            "Requirement already satisfied: cycler>=0.10 in /usr/local/lib/python3.6/dist-packages (from matplotlib) (0.10.0)\n",
            "Requirement already satisfied: six>=1.10 in /usr/local/lib/python3.6/dist-packages (from matplotlib) (1.11.0)\n",
            "Requirement already satisfied: pyparsing!=2.0.4,!=2.1.2,!=2.1.6,>=2.0.1 in /usr/local/lib/python3.6/dist-packages (from matplotlib) (2.3.0)\n",
            "Requirement already satisfied: python-dateutil>=2.1 in /usr/local/lib/python3.6/dist-packages (from matplotlib) (2.5.3)\n"
          ],
          "name": "stdout"
        }
      ]
    },
    {
      "metadata": {
        "id": "AMINveTh_eQu",
        "colab_type": "code",
        "outputId": "79834be4-f38b-44f0-8bc9-9fe554a52f04",
        "colab": {
          "base_uri": "https://localhost:8080/",
          "height": 122
        }
      },
      "cell_type": "code",
      "source": [
        "# Google drive のマウント（認証が必要）\n",
        "from google.colab import drive\n",
        "drive.mount('/content/gdrive')"
      ],
      "execution_count": 0,
      "outputs": [
        {
          "output_type": "stream",
          "text": [
            "Go to this URL in a browser: https://accounts.google.com/o/oauth2/auth?client_id=947318989803-6bn6qk8qdgf4n4g3pfee6491hc0brc4i.apps.googleusercontent.com&redirect_uri=urn%3Aietf%3Awg%3Aoauth%3A2.0%3Aoob&scope=email%20https%3A%2F%2Fwww.googleapis.com%2Fauth%2Fdocs.test%20https%3A%2F%2Fwww.googleapis.com%2Fauth%2Fdrive%20https%3A%2F%2Fwww.googleapis.com%2Fauth%2Fdrive.photos.readonly%20https%3A%2F%2Fwww.googleapis.com%2Fauth%2Fpeopleapi.readonly&response_type=code\n",
            "\n",
            "Enter your authorization code:\n",
            "··········\n",
            "Mounted at /content/gdrive\n"
          ],
          "name": "stdout"
        }
      ]
    },
    {
      "metadata": {
        "id": "_dLQl-OMdtj3",
        "colab_type": "code",
        "outputId": "6af8e577-ae2e-4dc4-f47b-a5c023e77450",
        "colab": {
          "base_uri": "https://localhost:8080/",
          "height": 34
        }
      },
      "cell_type": "code",
      "source": [
        "# データの展開\n",
        "!unzip -q  '/content/gdrive/My Drive/data/cifar-10.zip'\n",
        "!ls"
      ],
      "execution_count": 0,
      "outputs": [
        {
          "output_type": "stream",
          "text": [
            "cifar-10  gdrive  sample_data\n"
          ],
          "name": "stdout"
        }
      ]
    },
    {
      "metadata": {
        "id": "bLg61eeu-DIi",
        "colab_type": "code",
        "colab": {}
      },
      "cell_type": "code",
      "source": [
        "import sys\n",
        "import numpy as np\n",
        "import chainer\n",
        "from chainer import cuda\n",
        "from chainer import Function\n",
        "from chainer import report\n",
        "from chainer import training\n",
        "from chainer import utils\n",
        "from chainer import Variable\n",
        "from chainer import datasets, iterators, optimizers, serializers\n",
        "from chainer import Link, Chain, ChainList, cuda\n",
        "import chainer.functions as F\n",
        "import chainer.links as L\n",
        "from chainer.training import extensions\n",
        "from PIL import Image\n",
        "import matplotlib.pyplot as plt"
      ],
      "execution_count": 0,
      "outputs": []
    },
    {
      "metadata": {
        "id": "XTauCdal-S9I",
        "colab_type": "code",
        "outputId": "bd02c225-9522-427f-bf24-55e82915009f",
        "colab": {
          "base_uri": "https://localhost:8080/",
          "height": 272
        }
      },
      "cell_type": "code",
      "source": [
        "# chainerのバージョンの確認\n",
        "print('GPU availability:', chainer.cuda.available)\n",
        "print('cuDNN availablility:', chainer.cuda.cudnn_enabled)\n",
        "chainer.print_runtime_info()"
      ],
      "execution_count": 0,
      "outputs": [
        {
          "output_type": "stream",
          "text": [
            "GPU availability: True\n",
            "cuDNN availablility: True\n",
            "Platform: Linux-4.14.65+-x86_64-with-Ubuntu-18.04-bionic\n",
            "Chainer: 5.0.0\n",
            "NumPy: 1.14.6\n",
            "CuPy:\n",
            "  CuPy Version          : 5.0.0\n",
            "  CUDA Root             : /usr/local/cuda\n",
            "  CUDA Build Version    : 9020\n",
            "  CUDA Driver Version   : 9020\n",
            "  CUDA Runtime Version  : 9020\n",
            "  cuDNN Build Version   : 7201\n",
            "  cuDNN Version         : 7201\n",
            "  NCCL Build Version    : 2213\n",
            "iDeep: 2.0.0.post3\n"
          ],
          "name": "stdout"
        }
      ]
    },
    {
      "metadata": {
        "id": "EgO5DzB49eEC",
        "colab_type": "code",
        "outputId": "5875d882-edbe-487f-ab20-bab9d3e44e11",
        "colab": {
          "base_uri": "https://localhost:8080/",
          "height": 1108
        }
      },
      "cell_type": "code",
      "source": [
        "# CPU，GPUの確認\n",
        "!cat /proc/cpuinfo\n",
        "!cat /proc/driver/nvidia/gpus/0000:00:04.0/information"
      ],
      "execution_count": 0,
      "outputs": [
        {
          "output_type": "stream",
          "text": [
            "processor\t: 0\n",
            "vendor_id\t: GenuineIntel\n",
            "cpu family\t: 6\n",
            "model\t\t: 63\n",
            "model name\t: Intel(R) Xeon(R) CPU @ 2.30GHz\n",
            "stepping\t: 0\n",
            "microcode\t: 0x1\n",
            "cpu MHz\t\t: 2300.000\n",
            "cache size\t: 46080 KB\n",
            "physical id\t: 0\n",
            "siblings\t: 2\n",
            "core id\t\t: 0\n",
            "cpu cores\t: 1\n",
            "apicid\t\t: 0\n",
            "initial apicid\t: 0\n",
            "fpu\t\t: yes\n",
            "fpu_exception\t: yes\n",
            "cpuid level\t: 13\n",
            "wp\t\t: yes\n",
            "flags\t\t: fpu vme de pse tsc msr pae mce cx8 apic sep mtrr pge mca cmov pat pse36 clflush mmx fxsr sse sse2 ss ht syscall nx pdpe1gb rdtscp lm constant_tsc rep_good nopl xtopology nonstop_tsc cpuid pni pclmulqdq ssse3 fma cx16 sse4_1 sse4_2 x2apic movbe popcnt aes xsave avx f16c rdrand hypervisor lahf_lm abm pti ssbd ibrs ibpb stibp fsgsbase tsc_adjust bmi1 avx2 smep bmi2 erms xsaveopt arat arch_capabilities\n",
            "bugs\t\t: cpu_meltdown spectre_v1 spectre_v2 spec_store_bypass l1tf\n",
            "bogomips\t: 4600.00\n",
            "clflush size\t: 64\n",
            "cache_alignment\t: 64\n",
            "address sizes\t: 46 bits physical, 48 bits virtual\n",
            "power management:\n",
            "\n",
            "processor\t: 1\n",
            "vendor_id\t: GenuineIntel\n",
            "cpu family\t: 6\n",
            "model\t\t: 63\n",
            "model name\t: Intel(R) Xeon(R) CPU @ 2.30GHz\n",
            "stepping\t: 0\n",
            "microcode\t: 0x1\n",
            "cpu MHz\t\t: 2300.000\n",
            "cache size\t: 46080 KB\n",
            "physical id\t: 0\n",
            "siblings\t: 2\n",
            "core id\t\t: 0\n",
            "cpu cores\t: 1\n",
            "apicid\t\t: 1\n",
            "initial apicid\t: 1\n",
            "fpu\t\t: yes\n",
            "fpu_exception\t: yes\n",
            "cpuid level\t: 13\n",
            "wp\t\t: yes\n",
            "flags\t\t: fpu vme de pse tsc msr pae mce cx8 apic sep mtrr pge mca cmov pat pse36 clflush mmx fxsr sse sse2 ss ht syscall nx pdpe1gb rdtscp lm constant_tsc rep_good nopl xtopology nonstop_tsc cpuid pni pclmulqdq ssse3 fma cx16 sse4_1 sse4_2 x2apic movbe popcnt aes xsave avx f16c rdrand hypervisor lahf_lm abm pti ssbd ibrs ibpb stibp fsgsbase tsc_adjust bmi1 avx2 smep bmi2 erms xsaveopt arat arch_capabilities\n",
            "bugs\t\t: cpu_meltdown spectre_v1 spectre_v2 spec_store_bypass l1tf\n",
            "bogomips\t: 4600.00\n",
            "clflush size\t: 64\n",
            "cache_alignment\t: 64\n",
            "address sizes\t: 46 bits physical, 48 bits virtual\n",
            "power management:\n",
            "\n",
            "Model: \t\t Tesla K80\n",
            "IRQ:   \t\t 33\n",
            "GPU UUID: \t GPU-a407c2e3-8332-d280-7eb0-8c8fc5e642f0\n",
            "Video BIOS: \t 80.21.25.00.02\n",
            "Bus Type: \t PCI\n",
            "DMA Size: \t 40 bits\n",
            "DMA Mask: \t 0xffffffffff\n",
            "Bus Location: \t 0000:00:04.0\n",
            "Device Minor: \t 0\n"
          ],
          "name": "stdout"
        }
      ]
    },
    {
      "metadata": {
        "id": "uDzFnIYr4LAp",
        "colab_type": "code",
        "colab": {}
      },
      "cell_type": "code",
      "source": [
        "# クラス数\n",
        "class_num = 10\n",
        "\n",
        "# 画像の大きさ\n",
        "XSIZE = 32\n",
        "YSIZE = 32\n",
        "\n",
        "# 学習データ数\n",
        "train_num = 200\n",
        "\n",
        "# データ\n",
        "data_vec = np.zeros((class_num,train_num,3,YSIZE,XSIZE), dtype=np.float32)\n",
        "\n",
        "# 学習のパラメータ\n",
        "batchsize=10\n",
        "n_epoch=100\n",
        "n_train=class_num * train_num"
      ],
      "execution_count": 0,
      "outputs": []
    },
    {
      "metadata": {
        "id": "UUVxCs98OTX7",
        "colab_type": "code",
        "colab": {}
      },
      "cell_type": "code",
      "source": [
        "def normalize_img(x):\n",
        "    # -1 以上を1，0以下を0とする\n",
        "    return np.float32(0 if x<0 else (1 if x>1 else x))\n",
        "n_img=np.vectorize(normalize_img)"
      ],
      "execution_count": 0,
      "outputs": []
    },
    {
      "metadata": {
        "id": "12j8tMSm4PPk",
        "colab_type": "code",
        "colab": {}
      },
      "cell_type": "code",
      "source": [
        "# データの読み込み\n",
        "def Read_data( flag ):\n",
        "\n",
        "    dir = [ \"train\" , \"test\" ]\n",
        "    dir1 = [ \"airplane\" , \"automobile\" , \"bird\" , \"cat\" , \"deer\" , \"dog\" , \"frog\" , \"horse\" , \"ship\" , \"truck\" ]\n",
        "    for i in range(class_num):\n",
        "        print( i )\n",
        "        for j in range(0,train_num):\n",
        "            # RGB画像で読み込み\n",
        "            train_file = \"cifar-10/\" + dir[ flag ] + \"/\" + dir1[i] + \"/\" + str(j) + \".png\"\n",
        "            work_img = Image.open(train_file).convert('RGB')\n",
        "\n",
        "            # numpyに変換\n",
        "            temp = np.asarray(work_img).astype(np.float32)\n",
        "\n",
        "            # (32,32,3)→(3,32,32)に変換\n",
        "            temp = np.transpose(temp, (2,0,1))\n",
        "            \n",
        "            # 入力値の正規化\n",
        "            data_vec[i][j] = temp / 255.0\n",
        "    print( \" ---- \" )"
      ],
      "execution_count": 0,
      "outputs": []
    },
    {
      "metadata": {
        "id": "Q2jG-mTG4j-V",
        "colab_type": "code",
        "colab": {}
      },
      "cell_type": "code",
      "source": [
        "# CNN\n",
        "class CNN(chainer.Chain):\n",
        "    # 畳み込みネットワークの設定\n",
        "    def __init__(self):\n",
        "        super(CNN, self).__init__(\n",
        "            # 畳み込み層の設定\n",
        "            conv1 = L.Convolution2D(3, 128, 3, stride=1, pad=1),\n",
        "            conv2 = L.Convolution2D(128, 128, 3, stride=1, pad=1),\n",
        "            conv3 = L.Convolution2D(128, 128, 3, stride=1, pad=1),\n",
        "            conv4 = L.Convolution2D(128, 128, 3, stride=1, pad=1),\n",
        "            conv5 = L.Convolution2D(128, 128, 3, stride=1, pad=1),\n",
        "            conv6 = L.Convolution2D(128, 128, 3, stride=1, pad=1),\n",
        "            conv7 = L.Convolution2D(128, 3, 3, stride=1, pad=1),\n",
        "            \n",
        "            # バッチノーマライゼーション\n",
        "            bn1 = L.BatchNormalization(128),\n",
        "            bn2 = L.BatchNormalization(128),\n",
        "            bn3 = L.BatchNormalization(128),\n",
        "            bn4 = L.BatchNormalization(128),\n",
        "            bn5 = L.BatchNormalization(128),\n",
        "            bn6 = L.BatchNormalization(128),\n",
        "            bn7 = L.BatchNormalization(3),\n",
        "        )\n",
        "\n",
        "    # 損失関数\n",
        "    def __call__(self, x, y):\n",
        "        # 誤差二乗和\n",
        "        return F.mean_squared_error(self.fwd(x), y)\n",
        "\n",
        "    # 畳み込みネットワーク\n",
        "    def fwd(self, x):\n",
        "        # 畳み込み\n",
        "        # 大きさ 1\n",
        "        h = F.relu(self.bn1(self.conv1(x)))\n",
        "        h = F.max_pooling_2d(h, ksize=2,stride=2,pad=0)\n",
        "        \n",
        "        # 大きさ 1/2\n",
        "        h = F.relu(self.bn2(self.conv2(h)))\n",
        "        h = F.max_pooling_2d(h, ksize=2,stride=2,pad=0)\n",
        "        \n",
        "        # 大きさ 1/4\n",
        "        h = F.relu(self.bn3(self.conv3(h)))\n",
        "        h = F.max_pooling_2d(h, ksize=2,stride=2,pad=0)\n",
        "\n",
        "        # 大きさ 1/8\n",
        "        h = F.relu(self.bn4(self.conv4(h)))\n",
        "        \n",
        "        # 逆畳み込み\n",
        "        h = F.unpooling_2d(h ,2, cover_all=False)\n",
        "\n",
        "        # 大きさ 1/4\n",
        "        h = F.relu(self.bn5(self.conv5(h)))\n",
        "        h = F.unpooling_2d(h ,2, cover_all=False)\n",
        "        \n",
        "        # 大きさ 1/2\n",
        "        h = F.relu(self.bn6(self.conv6(h)))\n",
        "        h = F.unpooling_2d(h ,2, cover_all=False)\n",
        "        \n",
        "        # 大きさ 1\n",
        "        h = F.relu(self.conv7(h))\n",
        "        return h"
      ],
      "execution_count": 0,
      "outputs": []
    },
    {
      "metadata": {
        "id": "eiw6coKN4lSd",
        "colab_type": "code",
        "colab": {}
      },
      "cell_type": "code",
      "source": [
        "# 学習\n",
        "def Train():\n",
        "    # Adamによる更新\n",
        "    optimizer = optimizers.Adam(alpha=0.0002, beta1=0.5)\n",
        "    optimizer.setup(model)\n",
        "    # 正則化\n",
        "    optimizer.add_hook(chainer.optimizer.WeightDecay(0.00001))\n",
        "    \n",
        "    for epoch in range(n_epoch):\n",
        "        error = 0.0\n",
        "        for i in range(0, n_train, batchsize):\n",
        "            x = np.zeros((batchsize, 3, YSIZE, XSIZE), dtype=np.float32)\n",
        "            y = np.zeros((batchsize, 3, YSIZE, XSIZE), dtype=np.float32)\n",
        "\n",
        "            # バッチの作成\n",
        "            for j in range(batchsize):\n",
        "                rnd_c = np.random.randint(class_num)\n",
        "                rnd = np.random.randint(train_num)\n",
        "                x[j,:,:,:] = data_vec[rnd_c][rnd]\n",
        "                y[j,:,:,:] = data_vec[rnd_c][rnd]\n",
        "                \n",
        "            # 入力データ\n",
        "            xt = Variable(cuda.to_gpu(x))\n",
        "            yt = Variable(cuda.to_gpu(y))\n",
        "\n",
        "            # 勾配の初期化→伝播，誤差の計算→逆伝播→パラメータの更新\n",
        "            model.zerograds()\n",
        "            loss = model( xt , yt )\n",
        "            error += loss.data\n",
        "            loss.backward()\n",
        "            optimizer.update()\n",
        "        print( str( epoch ) +  ' : ' + str( error ) )\n",
        "\n",
        "    # パラメータの保存\n",
        "    serializers.save_hdf5(\"/content/gdrive/My Drive/data/model-AE-cifar.h5\", model)"
      ],
      "execution_count": 0,
      "outputs": []
    },
    {
      "metadata": {
        "id": "Ne84M5p846yf",
        "colab_type": "code",
        "colab": {}
      },
      "cell_type": "code",
      "source": [
        "# 予測\n",
        "def Predict():\n",
        "\n",
        "    # パラメータのロード\n",
        "    serializers.load_hdf5(\"/content/gdrive/My Drive/data/model-AE-cifar.h5\", model)\n",
        "    x = np.zeros((1, 3, YSIZE, XSIZE), dtype=np.float32)\n",
        "    y = np.zeros((1, 3, YSIZE, XSIZE), dtype=np.float32)\n",
        "\n",
        "    for i in range(class_num):\n",
        "        for j in range(train_num):\n",
        "            #　入力データ\n",
        "            x[0,:,:,:] = data_vec[i][j]\n",
        "            y[0,:,:,:] = data_vec[i][j]\n",
        "\n",
        "            xt = Variable(cuda.to_gpu(x))\n",
        "            yt = Variable(cuda.to_gpu(y))\n",
        "\n",
        "            # 予測\n",
        "            predict = cuda.to_cpu( ( model.fwd( xt ) ).data )\n",
        "            \n",
        "            if j < 1:\n",
        "                # 画像の描画\n",
        "                plt.figure()\n",
        "\n",
        "                # 元画像の表示\n",
        "                plt.subplot(1,2,1)\n",
        "                # (3,32,32) -> (32,32,3)に変換\n",
        "                work = np.transpose( data_vec[i][j] , (1,2,0) )\n",
        "                plt.imshow(work,vmin=0, vmax=1)\n",
        "                plt.title( \"Original Image\" )\n",
        "                \n",
        "                # 復元画像の表示\n",
        "                plt.subplot(1,2,2)\n",
        "                # (1,3,32,32) -> (3,32,32)に変換\n",
        "                work = np.reshape(predict,(3,YSIZE,XSIZE))\n",
        "                # (3,32,32) -> (32,32,3)に変換\n",
        "                work = np.transpose( work , (1,2,0) )\n",
        "                work = n_img( work )\n",
        "                plt.imshow(work,vmin=0, vmax=1)\n",
        "\n",
        "                # 画像の保存\n",
        "                plt.title( \"Decode Image(\" + str(i) + \",\" + str(j) + \")\" )\n",
        "                file = \"/content/gdrive/My Drive/data/result/decode-\" + str(i) + \"-\" + str(j) + \"-result.png\"\n",
        "                print( file )\n",
        "                plt.savefig(file)\n",
        "                plt.close()"
      ],
      "execution_count": 0,
      "outputs": []
    },
    {
      "metadata": {
        "id": "RBnvgG6V5FKJ",
        "colab_type": "code",
        "outputId": "9b58718a-2b67-4a17-95ae-6e9adf187ad7",
        "colab": {
          "base_uri": "https://localhost:8080/",
          "height": 34
        }
      },
      "cell_type": "code",
      "source": [
        "# GPU\n",
        "xp = cuda.cupy\n",
        "cuda.get_device(0).use()\n",
        "model = CNN()\n",
        "model.to_gpu()\n"
      ],
      "execution_count": 0,
      "outputs": [
        {
          "output_type": "execute_result",
          "data": {
            "text/plain": [
              "<__main__.CNN at 0x7f67ec1295c0>"
            ]
          },
          "metadata": {
            "tags": []
          },
          "execution_count": 14
        }
      ]
    },
    {
      "metadata": {
        "id": "_-4xaSaaIBXk",
        "colab_type": "code",
        "outputId": "38001a6b-97f6-4b6d-fd14-256ad91663b0",
        "colab": {
          "base_uri": "https://localhost:8080/",
          "height": 1904
        }
      },
      "cell_type": "code",
      "source": [
        "# データの読み込み\n",
        "flag = 0\n",
        "Read_data( flag )\n",
        "\n",
        "# 学習\n",
        "Train()"
      ],
      "execution_count": 0,
      "outputs": [
        {
          "output_type": "stream",
          "text": [
            "0\n",
            "1\n",
            "2\n",
            "3\n",
            "4\n",
            "5\n",
            "6\n",
            "7\n",
            "8\n",
            "9\n",
            " ---- \n",
            "0 : 9.61518\n",
            "1 : 4.666318\n",
            "2 : 4.1877627\n",
            "3 : 3.7207274\n",
            "4 : 3.4896035\n",
            "5 : 3.2333415\n",
            "6 : 3.253024\n",
            "7 : 3.1240504\n",
            "8 : 2.9420292\n",
            "9 : 2.7932193\n",
            "10 : 2.780607\n",
            "11 : 2.6842515\n",
            "12 : 2.5781813\n",
            "13 : 2.5736203\n",
            "14 : 2.440964\n",
            "15 : 2.4051588\n",
            "16 : 2.4214458\n",
            "17 : 2.209638\n",
            "18 : 2.248239\n",
            "19 : 2.2475817\n",
            "20 : 2.082459\n",
            "21 : 2.0560465\n",
            "22 : 2.0832264\n",
            "23 : 2.0532546\n",
            "24 : 1.9644841\n",
            "25 : 1.9455546\n",
            "26 : 1.8977476\n",
            "27 : 1.8385531\n",
            "28 : 1.8306799\n",
            "29 : 1.793472\n",
            "30 : 1.8174056\n",
            "31 : 1.8526107\n",
            "32 : 1.7661669\n",
            "33 : 1.7429053\n",
            "34 : 1.625609\n",
            "35 : 1.7022465\n",
            "36 : 1.6413282\n",
            "37 : 1.6968753\n",
            "38 : 1.6389155\n",
            "39 : 1.6046883\n",
            "40 : 1.6079867\n",
            "41 : 1.5985799\n",
            "42 : 1.584913\n",
            "43 : 1.6179849\n",
            "44 : 1.5348047\n",
            "45 : 1.5432298\n",
            "46 : 1.4556165\n",
            "47 : 1.4855622\n",
            "48 : 1.4466555\n",
            "49 : 1.5786018\n",
            "50 : 1.5388277\n",
            "51 : 1.4531841\n",
            "52 : 1.3910825\n",
            "53 : 1.3692299\n",
            "54 : 1.4530121\n",
            "55 : 1.5398421\n",
            "56 : 1.3839569\n",
            "57 : 1.4249223\n",
            "58 : 1.3759061\n",
            "59 : 1.3472539\n",
            "60 : 1.3649538\n",
            "61 : 1.3118246\n",
            "62 : 1.4146161\n",
            "63 : 1.3648837\n",
            "64 : 1.3327408\n",
            "65 : 1.3148718\n",
            "66 : 1.340001\n",
            "67 : 1.3734698\n",
            "68 : 1.2641535\n",
            "69 : 1.2318771\n",
            "70 : 1.2182387\n",
            "71 : 1.2364662\n",
            "72 : 1.2079825\n",
            "73 : 1.2678411\n",
            "74 : 1.2690187\n",
            "75 : 1.2161301\n",
            "76 : 1.3353822\n",
            "77 : 1.2687621\n",
            "78 : 1.1433549\n",
            "79 : 1.1436907\n",
            "80 : 1.1786282\n",
            "81 : 1.1039151\n",
            "82 : 1.0866053\n",
            "83 : 1.1027058\n",
            "84 : 1.1703435\n",
            "85 : 1.2454582\n",
            "86 : 1.1231681\n",
            "87 : 1.1804892\n",
            "88 : 1.0624378\n",
            "89 : 1.0623155\n",
            "90 : 1.0306951\n",
            "91 : 1.014249\n",
            "92 : 1.0301557\n",
            "93 : 1.035372\n",
            "94 : 1.0382961\n",
            "95 : 1.2100989\n",
            "96 : 1.1197171\n",
            "97 : 1.0786582\n",
            "98 : 1.0549877\n",
            "99 : 0.98306847\n"
          ],
          "name": "stdout"
        }
      ]
    },
    {
      "metadata": {
        "id": "MEDLa4r15MZb",
        "colab_type": "code",
        "outputId": "e9157d9f-e1cb-4277-9774-3a156701e98c",
        "colab": {
          "base_uri": "https://localhost:8080/",
          "height": 374
        }
      },
      "cell_type": "code",
      "source": [
        "flag = 1    \n",
        "\n",
        "# データの読み込み\n",
        "Read_data( flag )\n",
        "\n",
        "# 予測\n",
        "Predict()"
      ],
      "execution_count": 0,
      "outputs": [
        {
          "output_type": "stream",
          "text": [
            "0\n",
            "1\n",
            "2\n",
            "3\n",
            "4\n",
            "5\n",
            "6\n",
            "7\n",
            "8\n",
            "9\n",
            " ---- \n",
            "/content/gdrive/My Drive/data/result/decode-0-0-result.png\n",
            "/content/gdrive/My Drive/data/result/decode-1-0-result.png\n",
            "/content/gdrive/My Drive/data/result/decode-2-0-result.png\n",
            "/content/gdrive/My Drive/data/result/decode-3-0-result.png\n",
            "/content/gdrive/My Drive/data/result/decode-4-0-result.png\n",
            "/content/gdrive/My Drive/data/result/decode-5-0-result.png\n",
            "/content/gdrive/My Drive/data/result/decode-6-0-result.png\n",
            "/content/gdrive/My Drive/data/result/decode-7-0-result.png\n",
            "/content/gdrive/My Drive/data/result/decode-8-0-result.png\n",
            "/content/gdrive/My Drive/data/result/decode-9-0-result.png\n"
          ],
          "name": "stdout"
        }
      ]
    },
    {
      "metadata": {
        "id": "E6LvSWWBUNQX",
        "colab_type": "code",
        "outputId": "15cc513a-3b07-4b4f-c155-6e54edcafe3d",
        "colab": {
          "base_uri": "https://localhost:8080/",
          "height": 289
        }
      },
      "cell_type": "code",
      "source": [
        "!nvidia-smi"
      ],
      "execution_count": 0,
      "outputs": [
        {
          "output_type": "stream",
          "text": [
            "Sat Dec 29 06:08:46 2018       \n",
            "+-----------------------------------------------------------------------------+\n",
            "| NVIDIA-SMI 396.44                 Driver Version: 396.44                    |\n",
            "|-------------------------------+----------------------+----------------------+\n",
            "| GPU  Name        Persistence-M| Bus-Id        Disp.A | Volatile Uncorr. ECC |\n",
            "| Fan  Temp  Perf  Pwr:Usage/Cap|         Memory-Usage | GPU-Util  Compute M. |\n",
            "|===============================+======================+======================|\n",
            "|   0  Tesla K80           Off  | 00000000:00:04.0 Off |                    0 |\n",
            "| N/A   72C    P0    72W / 149W |    218MiB / 11441MiB |      0%      Default |\n",
            "+-------------------------------+----------------------+----------------------+\n",
            "                                                                               \n",
            "+-----------------------------------------------------------------------------+\n",
            "| Processes:                                                       GPU Memory |\n",
            "|  GPU       PID   Type   Process name                             Usage      |\n",
            "|=============================================================================|\n",
            "+-----------------------------------------------------------------------------+\n"
          ],
          "name": "stdout"
        }
      ]
    },
    {
      "metadata": {
        "id": "w-CnwUO2dmLD",
        "colab_type": "code",
        "colab": {}
      },
      "cell_type": "code",
      "source": [
        ""
      ],
      "execution_count": 0,
      "outputs": []
    }
  ]
}